{
 "cells": [
  {
   "cell_type": "code",
   "execution_count": 25,
   "metadata": {},
   "outputs": [],
   "source": [
    "from bs4 import BeautifulSoup\n",
    "import numpy as np\n",
    "from selenium import webdriver\n",
    "import time\n",
    "import pandas as pd\n",
    "from selenium.webdriver.support.ui import WebDriverWait\n",
    "from selenium.webdriver.common.by import By\n",
    "from selenium.webdriver.support import expected_conditions as EC\n",
    "\n",
    "\n",
    "               "
   ]
  },
  {
   "cell_type": "code",
   "execution_count": 26,
   "metadata": {},
   "outputs": [],
   "source": [
    "# load the webdriver\n",
    "options = webdriver.ChromeOptions()\n",
    "options.add_argument('headless')\n",
    "options.add_argument('disable-gpu')\n",
    "\n",
    "driver = webdriver.Chrome(options=options)\n",
    "\n"
   ]
  },
  {
   "cell_type": "code",
   "execution_count": 27,
   "metadata": {},
   "outputs": [],
   "source": [
    "def scrape_poems():\n",
    "    \"\"\"\n",
    "    This function scrapes poems from the poetry foundation website\n",
    "    and exports the data to a csv file\n",
    "\n",
    "    Returns:\n",
    "    df: a dataframe of the scraped data\n",
    "    \"\"\"\n",
    "    BASE_URL = \"https://www.poetryfoundation.org\"\n",
    "    urls = [\n",
    "        \"https://www.poetryfoundation.org/categories/winter\",\n",
    "        \"https://www.poetryfoundation.org/categories/love\",\n",
    "        \"https://www.poetryfoundation.org/categories/youth\",\n",
    "        \"https://www.poetryfoundation.org/categories/relationships\",\n",
    "        \"https://www.poetryfoundation.org/categories/travels-journeys\",\n",
    "        \"https://www.poetryfoundation.org/categories/history-politics\",\n",
    "    ]\n",
    "\n",
    "    data = []  # to store the data\n",
    "\n",
    "    for url in urls:\n",
    "        # get the page\n",
    "        driver.get(url)\n",
    "        time.sleep(2)\n",
    "        # get the page source\n",
    "        soup = BeautifulSoup(driver.page_source, 'html.parser')\n",
    "        poems = soup.find_all('li', class_=\"col-span-full pt-6\")\n",
    "        for p in poems:\n",
    "            title = p.find('h3').text\n",
    "            author = p.find('div', class_=\"type-kappa text-gray-600\")\n",
    "            if author:\n",
    "                author = author.text\n",
    "            else:\n",
    "                author = None\n",
    "            summary = p.find('div', class_=\"rich-text line-clamp-[var(--line-clamp)]\")\n",
    "            if summary:\n",
    "                summary = summary.text\n",
    "            else:\n",
    "                summary = None\n",
    "\n",
    "            link = p.find('a')['href']\n",
    "            # Being the link is a short link, we need to add the base url to it to access the entire poem\n",
    "            link = BASE_URL + link\n",
    "\n",
    "            # simulate a click action to click the link to access the entire poem in the next page!\n",
    "            driver.get(link)\n",
    "            time.sleep(2)\n",
    "            soup = BeautifulSoup(driver.page_source, 'html.parser')\n",
    "            poem = soup.find('article', class_=\"mb-6 flex flex-col gap-12 md:mb-0\")  # get the poem\n",
    "            if poem:\n",
    "                poem = poem.text\n",
    "            else:\n",
    "                poem = None\n",
    "            \n",
    "\n",
    "            data.append({\"title\": title, \"author\": author, \"summary\": summary, \"poem\": poem, \"link\": link})\n",
    "\n",
    "    df = pd.DataFrame(data)  # create a dataframe\n",
    "    df.to_csv('poems.csv', mode='a', header=False, index=False)  # export to csv file\n",
    "    return df  # returns a dataframe of the scraped data"
   ]
  },
  {
   "cell_type": "code",
   "execution_count": 28,
   "metadata": {},
   "outputs": [
    {
     "data": {
      "application/vnd.microsoft.datawrangler.viewer.v0+json": {
       "columns": [
        {
         "name": "index",
         "rawType": "int64",
         "type": "integer"
        },
        {
         "name": "title",
         "rawType": "object",
         "type": "string"
        },
        {
         "name": "author",
         "rawType": "object",
         "type": "unknown"
        },
        {
         "name": "summary",
         "rawType": "object",
         "type": "string"
        },
        {
         "name": "poem",
         "rawType": "object",
         "type": "unknown"
        },
        {
         "name": "link",
         "rawType": "object",
         "type": "string"
        }
       ],
       "conversionMethod": "pd.DataFrame",
       "ref": "a83fbd2d-b7fc-414e-95db-17970a5f956d",
       "rows": [
        [
         "0",
         "Winter Journal: Threshed Blue, Cardings, Dim Tonsils",
         "By Emily Wilson",
         "stripped batting of cloudglimpsed ligamentsdusk coming up underlithographic, nib-hatchings       instruments click       the fine-sprung locust       replicate dinge along hill-lines       tailings of umber, the rust smudgeThere is still that hemmed ocean of oaks       the various reds, the somehow       silver cast over the...",
         "stripped batting of cloud\n glimpsed ligaments\n dusk coming up under\n lithographic, nib-hatchings\n        instruments click\n        the fine-sprung locust\n        replicate dinge along hill-lines\n        tailings of umber, the rust smudge\n There is still that hemmed ocean of oaks\n        the various reds, the somehow\n        silver cast over the brown-gold\n        the under-brushed shadows\n How can there be more of their dispensing\n        into air?\n The night-openings of the trees\n The thousand clefts into\n Their corridors shiver and merge and piece apart\n There is no one beside what was once river\n Only the carbons incoming\n        accreting in leaves\n Love of old oaks unencumbering\n Root-beauties brought through\n crude sieves of bare trees\n the few fastened leaves\n Those pods are like tongues or like sickles\n The blades have been pulled from their sheaths\n The backs of the clouds now upturned\n They herd from pink seas\n They make their untouchable stream\n        through regions of steep emptiness\n        against which the trees have their gestures\n Drop down, drop down toward me\n your little sleek scars\n Make your bed in rough cedars\n clangor of darks numbering in\n clusters of trunks and spoked lungs\n the thistles that work at the gumsCopyright Credit: Emily Wilson, \"Winter Journal: Threshed Blue, Cardings, Dim Tonsils\" from The Keep. Copyright © 2001 by Emily Wilson.  Reprinted by permission of University of Iowa Press.Source: The Keep (University of Iowa Press)",
         "https://www.poetryfoundation.org/poems/52227/winter-journal-threshed-blue-cardings-dim-tonsils"
        ],
        [
         "1",
         "To a Wreath of Snow",
         "By Emily Brontë",
         "O transient voyager of heaven!⁠ ⁠ ⁠ O silent sign of winter skies!What adverse wind thy sail has driven⁠ ⁠ ⁠ To dungeons where a prisoner lies?Methinks the hands that shut the sun⁠ ⁠ ⁠ ⁠So sternly from this morning's browMight still their rebel task have done⁠⁠ ⁠ ⁠ And checked a thing...",
         "O transient voyager of heaven!\n ⁠ ⁠ ⁠ O silent sign of winter skies!\n What adverse wind thy sail has driven\n ⁠ ⁠ ⁠ To dungeons where a prisoner lies?\n\n Methinks the hands that shut the sun\n ⁠ ⁠ ⁠ ⁠So sternly from this morning's brow\n Might still their rebel task have done\n ⁠⁠ ⁠ ⁠ And checked a thing so frail as thou.\n\n They would have done it had they known\n ⁠ ⁠ ⁠ ⁠The talisman that dwelt in thee,\n For all the suns that ever shone\n ⁠ ⁠ ⁠ ⁠Have never been so kind to me!\n\n For many a week, and many a day\n ⁠⁠ ⁠ ⁠ My heart was weighed with sinking gloom\n When morning rose in mourning grey\n ⁠⁠ ⁠ ⁠ And faintly lit my prison room\n\n But angel like, when I awoke,\n ⁠⁠ ⁠ ⁠ Thy silvery form, so soft and fair\n Shining through darkness, sweetly spoke\n ⁠⁠ ⁠ ⁠ Of cloudy skies and mountains bare;\n\n The dearest to a mountaineer\n ⁠⁠ ⁠ ⁠ Who, all life long has loved the snow\n That crowned his native summits drear,\n ⁠ ⁠ ⁠ ⁠Better, than greenest plains below.\n\n And voiceless, soulless, messenger\n ⁠ ⁠ ⁠ ⁠Thy presence waked a thrilling tone\n That comforts me while thou art here\n ⁠ ⁠ ⁠ ⁠And will sustain when thou art gone",
         "https://www.poetryfoundation.org/poems/161908/to-a-wreath-of-snow"
        ],
        [
         "2",
         "Preludes",
         "By T. S. Eliot",
         "IThe winter evening settles downWith smell of steaks in passageways.Six o’clock.The burnt-out ends of smoky days.And now a gusty shower wrapsThe grimy scrapsOf withered leaves about your feetAnd newspapers from vacant lots;The showers beatOn broken blinds and chimney-pots,And at the...",
         "I\n\n The winter evening settles down\n With smell of steaks in passageways.\n Six o’clock.\n The burnt-out ends of smoky days.\n And now a gusty shower wraps\n The grimy scraps\n Of withered leaves about your feet\n And newspapers from vacant lots;\n The showers beat\n On broken blinds and chimney-pots,\n And at the corner of the street\n A lonely cab-horse steams and stamps.\n\n And then the lighting of the lamps.\n\n\n\n\n II\n\n The morning comes to consciousness\n Of faint stale smells of beer\n From the sawdust-trampled street\n With all its muddy feet that press\n To early coffee-stands.\n\n With the other masquerades\n That time resumes,\n One thinks of all the hands\n That are raising dingy shades\n In a thousand furnished rooms.\n\n\n\n\n III\n\n You tossed a blanket from the bed,\n You lay upon your back, and waited;\n You dozed, and watched the night revealing\n The thousand sordid images\n Of which your soul was constituted;\n They flickered against the ceiling.\n And when all the world came back\n And the light crept up between the shutters\n And you heard the sparrows in the gutters,\n You had such a vision of the street\n As the street hardly understands;\n Sitting along the bed’s edge, where\n You curled the papers from your hair,\n Or clasped the yellow soles of feet\n In the palms of both soiled hands.\n\n\n\n\n IV\n\n His soul stretched tight across the skies\n That fade behind a city block,\n Or trampled by insistent feet\n At four and five and six o’clock;\n And short square fingers stuffing pipes,\n And evening newspapers, and eyes\n Assured of certain certainties,\n The conscience of a blackened street\n Impatient to assume the world.\n\n I am moved by fancies that are curled\n Around these images, and cling:\n The notion of some infinitely gentle\n Infinitely suffering thing.\n\n Wipe your hand across your mouth, and laugh;\n The worlds revolve like ancient women\n Gathering fuel in vacant lots.Copyright Credit: T. S. Eliot, \"Preludes\" from Collected Poems: 1909-1962.  Copyright © 2020 by T. S. Eliot.  Reprinted by permission of Faber and Faber, Ltd..Source: Collected Poems: 1909-1962  (Faber and Faber, Ltd., 2020)",
         "https://www.poetryfoundation.org/poems/44214/preludes-56d22338dc954"
        ],
        [
         "3",
         "Growing Season",
         "By Angela Voras-Hills",
         "On the bike path, a bunny's body and bloodwhere the head should be. Somethinghas torn off its foot, something has eatenits heart, its entrails frozen in snow.The plow growls past me. This morningI left eggs behind the couch to incubate....",
         "On the bike path, a bunny's body and blood\n where the head should be. Something\n\n has torn off its foot, something has eaten\n its heart, its entrails frozen in snow.\n\n The plow growls past me. This morning\n I left eggs behind the couch to incubate. I spent\n\n last night walking until all the blood left my feet,\n and my thighs throbbed. The snow\n\n refuses to melt. I refuse to wear\n a sweater set or heels. Instead of TV news,\n\n I watch the sky. When it darkens,\n my ribs swell, and I know it is not time\n\n to plant. I wait for the beginning\n or the end—depending on the day. Soon,\n\n there will be enough water for all of us\n to need to build a boat: the sun falls\n\n into the street, blinding the drivers heading\n north, warming the snow from inside.Copyright Credit: Angela Voras-Hills, \"Growing Season\" from Louder Birds.  Copyright © 2020 by Angela Voras-Hills.  Reprinted by permission of Pleiades Press. Source: Louder Birds (Pleiades Press, 2020)",
         "https://www.poetryfoundation.org/poems/154760/growing-season"
        ],
        [
         "4",
         "The Snow Arrives After Long Silence",
         "By Nancy Willard",
         "The snow arrives after long silencefrom its high home where nothing leavestracks or strains or keeps time.The sky it fell from, pale as oatmeal,bears up like sheep before shearing.The cat at my window watchesamazed. So many feathers and no bird!All...",
         "The snow arrives after long silence\n from its high home where nothing leaves\n tracks or strains or keeps time.\n The sky it fell from, pale as oatmeal,\n bears up like sheep before shearing.\n\nThe cat at my window watches\n amazed. So many feathers and no bird!\n All day the snow sets its table\n with clean linen, putting its house\n in order. The hungry deer walk\n\non the risen loaves of snow.\n You can follow the broken hearts\n their hooves punch in its crust.\n Night after night the big plows rumble\n and bale it like dirty laundry\n\nand haul it to the Hudson.\n Now I scan the sky for snow,\n and the cool cheek it offers me,\n and its body, thinned into petals,\n and the still caves where it sleeps.\n  Copyright Credit: Nancy Willard, “The Snow Arrives After Long Silence” from In the Salt Marsh (New York: Alfred A. Knopf, 2004)",
         "https://www.poetryfoundation.org/poems/154170/the-snow-arrives-after-long-silence"
        ],
        [
         "5",
         "Winter Morning",
         "By James Crews",
         "When I can no longer say thank youfor this new day and the waking into it,for the cold scrape of the kitchen chairand the ticking of the space heater glowingorange as it warms the floor near my feet,I know it’s...",
         "When I can no longer say thank you\nfor this new day and the waking into it,\nfor the cold scrape of the kitchen chair\nand the ticking of the space heater glowing\norange as it warms the floor near my feet,\nI know it’s because I’ve been fooled again\nby the selfish, unruly man who lives in me\nand believes he deserves only safety\nand comfort. But if I pause as I do now,\nand watch the streetlights outside flashing\noff one by one like old men blinking their\ncloudy eyes, if I listen to my tired neighbors\nslamming car doors hard against the morning\nand see the steaming coffee in their mugs\nkissing chapped lips as they sip and\nexhale each of their worries white into\nthe icy air around their faces—then I can\nremember this one life is a gift each of us\nwas handed and told to open: Untie the bow\nand tear off the paper, look inside\nand be grateful for whatever you find\neven if it is only the scent of a tangerine\nthat lingers on the fingers long after\nyou’ve finished peeling it.\n  Copyright Credit: Poem copyright ©2019 by James Crews, “Winter Morning,” from Gratefulness.org, (2019). Poem reprinted by permission of James Crews and the publisher.  ",
         "https://www.poetryfoundation.org/poems/153650/winter-morning"
        ],
        [
         "6",
         "poetry-magazineWind Shear",
         "By Janice N. Harrington",
         "Under the magnolia, a winter-starved hare stillsand pretends it is not there,and wanting less of fearfulnessI pretend that I do not see my camouflage, the wild promisesin my gaze, and step carefully by.Morning, bitter morning—lack and awful patience wait at...",
         "Under the magnolia, a winter-starved hare stills\n and pretends it is not there,\n\n and wanting less of fearfulness\n I pretend that I do not see my camouflage, the wild promises\n in my gaze, and step carefully by.\n\n Morning, bitter morning—\n lack and awful patience wait at every compass point.\n Mourning, mournful, the prairie seals wind-scored stems with snow.\n\n Here inside a stalk of goldenrod\n a gall wasp will ride hard winter out.\n\n Here between my ribs, wasps of lonely, wasps of\nnot yet, not yet wait and ride hard winter out.\n\n Such a slow season, laggard and mean.\n I can’t explain the cardinals I’ve seen of late,\n\n but the crows’ black fists, the way they bully\n eave and air, stab the morning with the sharpest awe,\n\n I understand it now. I see the reason and agree.Source: Poetry (May 2020)",
         "https://www.poetryfoundation.org/poetrymagazine/poems/153222/wind-shear"
        ],
        [
         "7",
         "poetry-magazineThe Burning",
         "By Liz Berry",
         "It was the hard winter she came,frozen larks plummeting through the gloam like falling stars,each pail in the yard a slattern’s looking glass.Each dusk, the house cobwebbed by creeping frost,my husband slipped like a knife from an oyster,my sons nestled...",
         "It was the hard winter she came,\n frozen larks plummeting through the gloam like falling stars,\n each pail in the yard a slattern’s looking glass.\n\n Each dusk, the house cobwebbed by creeping frost,\n my husband slipped like a knife from an oyster,\n my sons nestled like dormice in their cots,\n I stood at my black window and oh\n the cold it pressed upon me like a lover,\n held its hands to my throat, my knees.\n\n She came first through the trees:\n a small glint amongst the poplars,\n hoarfrost dripping from the velvet nubs of their antlers,\n leaping fast to a shuddering pillar of flame,\n her pelvis a cradle of jeweled tinder,\n her ribs white kindling. A holy thing—\n such furious unblossoming—and something profane.\n\n I pressed my eye to the glass, the crackling dark,\n saw her heart catch light,\n blackbirds flap frantic from the forks of trees—\n     —woke shivering, sweat between my breasts,\n my tongue in my teeth.\n\n Every night then she came\n in the stolen hours between caring and dream,\n the children vanished, the drudging chaos of day\n put to sleep.\n I have no words to tell of the shapes she scorched,\n the frozen lock, the copper key,\n but that heat licked me raw as a wild love,\n cracked the ice on my ribs and tossed in a flare.\n\n All my life I have been a good woman,\n compliant, neat, my children’s snow boots polished,\n each snowflake of ash swept clean from my step.\n I’ve worn obedience like a uniform,\n the hoof of the iron cooling in my grate.\n Yet I riled in the witching hour, tongue glittering. \n My darling, I whispered to my own dry bones,\n for what do you burn?\n\n Three moons she has been absent,\n though I wait at my window, the chill persisting, presaging snow,\n and my longing rises hopeless as the carp in the pool.\n I don’t know where she is living\n or if she lives at all—\n with women nursing in fevered sheets\n or scrubbing floors until their knuckles ignite?\n\n But by dark, when my sons sail the black cut\n of sleep, and frost lays its terrible lace\n upon the grass, when I am alone with my fretting,\n with my dreams like black pearls in the clam of my mouth,\n I press my fists to that tenderest wound—my soul—\n and Christ how I burn.Source: Poetry (February 2020)",
         "https://www.poetryfoundation.org/poetrymagazine/poems/152126/the-burning"
        ],
        [
         "8",
         "First Snow",
         "By Arthur Sze",
         "A rabbit has stopped on the gravel driveway:           imbibing the silence,           you stare at spruce needles:                                 ...",
         "A rabbit has stopped on the gravel driveway:\n\n            imbibing the silence,\n            you stare at spruce needles:\n\n                                           there's no sound of a leaf blower, \n                                           no sign of a black bear;\n\n a few weeks ago, a buck scraped his rack\n            against an aspen trunk;\n            a carpenter scribed a plank along a curved stone wall.\n\n                         You only spot the rabbit's ears and tail:\n\n when it moves, you locate it against speckled gravel,\n but when it stops, it blends in again;\n\n            the world of being is like this gravel:\n\n                         you think you own a car, a house,\n                         this blue-zigzagged shirt, but you just borrow these things. \n\n Yesterday, you constructed an aqueduct of dreams\n                         and stood at Gibraltar,\n                                                 but you possess nothing.\n\n Snow melts into a pool of clear water;\n      and, in this stillness,\n\n                         starlight behind daylight wherever you gaze. Copyright Credit: Arthur Sze, \"First Snow\" from Sight Lines.  Copyright © 2019 by Arthur Sze.  Reprinted by permission of Copper Canyon Press, www.coppercanyonpress.org.Source: Sight Lines (2019)",
         "https://www.poetryfoundation.org/poems/152053/first-snow-5e0e478bd0a75"
        ],
        [
         "9",
         "poetry-magazineWhen It Arrived",
         "By C.L. O’Dell",
         "It was delivered to me in the snow.The kids were all sleepingin separate corners of the houselike unfound crystals.I wiped the flakes off,holding what I thought could save me.My neighbors were afraidI was disappearing. The branches abovetrembled with hidden birds.I...",
         "For Lucie Brock-BroidoIt was delivered to me in the snow.\n\n The kids were all sleeping\n in separate corners of the house\n like unfound crystals.\n\n I wiped the flakes off,\n holding what I thought could save me.\n My neighbors were afraid\n\n I was disappearing. The branches above\n trembled with hidden birds.\n I didn’t know. I read and kept reading\n the label\n\n until you heard me.Source: Poetry (January 2020)",
         "https://www.poetryfoundation.org/poetrymagazine/poems/151739/when-it-arrived"
        ],
        [
         "10",
         "poetry-magazineFebruary & my love is in another state",
         "By José Olivarez",
         "so when i walk down the street, i hold handswith the wind. there’s a chimney coughingup ahead & a sky so honey, i could almost taste it.a cat struts away from me & two yellow eyesbecome four: just like that,i’m...",
         "so when i walk down the street, i hold hands\n with the wind. there’s a chimney coughing\n up ahead & a sky so honey, i could almost taste it.\n a cat struts away from me & two yellow eyes\n\n become four: just like that,\n i’m the loneliest creature on this block.\n soon the streetlights will come alive\n & television sets will light up with blues.\n\n stay with me. while the sky is still golden,\n hold the ladder so i can climb, & from\n the highest rung, i can scrape away a drizzle\n of light to wear around my neck. alone\n\n is the star i follow. in love & in solitude:\n alone is the home with the warmest glow.Source: Poetry (December 2019)",
         "https://www.poetryfoundation.org/poetrymagazine/poems/151518/february-my-love-is-in-another-state"
        ],
        [
         "11",
         "poetry-magazineBattery Park in Winter",
         "By Chase Berggrun",
         "Near noon in the city in the parkin the salted air in the cold cringecringing two hands glued redto my cheeks. I give away comfort to get it back.Oh, look at the sun, I must say to myselfover and over,...",
         "Near noon in the city in the park\n in the salted air in the cold cringe\n cringing two hands glued red\n to my cheeks. I give away comfort to get it back.\n Oh, look at the sun, I must say to myself\n over and over, so that I might look at the sun.\n\n I rent a language guide\n to hold my hand\n while I sit sneezing\n in home’s direction—I am\n far away. But I can see\n the ocean: not so far.\n\n Nine children on the playground. Ten trees\n planted in a row. So nice\n to be a swelling sleeper,\n thinking at a jogger’s pace. Bees\n born from my fingertips\n burst toward all the dying life.Source: Poetry (December 2019)",
         "https://www.poetryfoundation.org/poetrymagazine/poems/151487/battery-park-in-winter"
        ],
        [
         "12",
         "poetry-magazineMight Have Been July, Might Have Been December",
         "By Robert Wrigley",
         "More oblique the eagle’s anglethan the osprey’s precipitous fall,but rose up both and under them dangleda trout, the point of it all.Festooned, a limb on each one’sfavored tree either side of the river,with chains of bone and lace of skinthe...",
         "More oblique the eagle’s angle\n than the osprey’s precipitous fall,\n but rose up both and under them dangled\n a trout, the point of it all.\n\n Festooned, a limb on each one’s\n favored tree either side of the river,\n with chains of bone and lace of skin\n the river’s wind made shiver.\n\n Sat under them both, one in December,\n one in July, in diametrical seasonal airs,\n and once arrived home, as I remember,\n with a thin white fish rib lodged in my hair.Source: Poetry (December 2019)",
         "https://www.poetryfoundation.org/poetrymagazine/poems/151498/might-have-been-july-might-have-been-december"
        ],
        [
         "13",
         "poetry-magazineMuzzle",
         "By Julia Salem",
         "In a bleary part of town,I traverse the blackboard silence of snow.Through the slats of the cypressesFlounce paper-white feathers of snow.On the red leaves of my palmsDistend melted messages of snow.The road is iron anvilStinging with sparks of snow.My nocturnal...",
         "In a bleary part of town,\n I traverse the blackboard silence of snow.\n\n Through the slats of the cypresses\n Flounce paper-white feathers of snow.\n\n On the red leaves of my palms\n Distend melted messages of snow.\n\n The road is iron anvil\n Stinging with sparks of snow.\n\n My nocturnal heart thrums\n In white wasp whir of snow.\n\n Moonlight purls like nectar\n Sweetening the blandness of snow.\n\n Glaucous berries hang from the rowans\n Like frostbitten pearls of snow.\n\n Mice hide in the lee of alders,\n Shirking the cold tusks of snow.\n\n Shadows vine like crewelwork\n On linen twill of snow.\n\n Around your black spade pupil\n Lurks an avalanche of snow.\n\n I wish you’d toss your cards\n Like fireworks against cumuli of snow.\n\n Instead, my name catches in your throat,\n Congealed in its amnion of snow.Source: Poetry (December 2019)",
         "https://www.poetryfoundation.org/poetrymagazine/poems/151500/muzzle"
        ],
        [
         "14",
         "White Lie",
         "By Austin Smith",
         "Christmas Eves our dad would bringHome from the farm real hayFor the reindeer that didn't existAnd after we were finally asleepWould get out and take the slabsUp in his arms and carry themBack to the bed of his pickup,Making sure...",
         "Christmas Eves our dad would bring\n Home from the farm real hay\n For the reindeer that didn't exist\n And after we were finally asleep\n Would get out and take the slabs\n Up in his arms and carry them\n Back to the bed of his pickup,\n Making sure to litter the snow\n With chaff so he could show us\n In the morning the place where\n They'd stood eating, their harness\n Bells dulled by the cold, their breath\n Steam, all while we were dreaming.Copyright Credit: Poem copyright ©2018 by Princeton University Press, \"White Lie,\" from Flyover Country, (Princeton University Press, 2018). Poem reprinted by permission of Austin Smith and the publisher.",
         "https://www.poetryfoundation.org/poems/151645/white-lie"
        ],
        [
         "15",
         "Sugar Water in Winter",
         "By Christie Towers",
         "A bowl of rose water dreams itself emptyon the radiator: It's December and we canhardly afford the heat, our milk moneycrinkling hungry over the cold counterof our convenience store, the very lastof our cash for creamer, for pleasantries,for cheap tea...",
         "A bowl of rose water dreams itself empty\n on the radiator: It's December and we can\n hardly afford the heat, our milk money\n crinkling hungry over the cold counter\n of our convenience store, the very last\n of our cash for creamer, for pleasantries,\n for cheap tea and cigarettes, for the barely-\n there scent of roses burning softly. We trade\n our hungers for hearth, for the clank and hiss\n of warmth. Small fires, these, but even we,\n in our clamorous poverty, demand pleasure:\n steal sugar, our neighbor's flowers, and never,\n ever are caught thankless in better weather.Copyright Credit: Poem copyright ©2018 by Christie Towers, \"Sugar Water in Winter,\" from Nimrod International Journal, (Vol. 62, No. 1, Fall/Winter 2018). Poem reprinted by permission of Christie Towers and the publisher.",
         "https://www.poetryfoundation.org/poems/151200/sugar-water-in-winter"
        ],
        [
         "16",
         "poetry-magazineThe Years of Water & Light",
         "By Ruth Awad",
         "In the rowboat I tied her shoes.And the river cussed and spat. Our feet swelled and our bellies begged.The end is never how you expect. This is where I lose her:at the shoreline, in sweet water. We fed wild dogs overripe apples and...",
         "In the rowboat I tied her shoes.\nAnd the river cussed and spat.\n \nOur feet swelled and our bellies begged.\n\nThe end is never how you expect.\n \nThis is where I lose her:\n\nat the shoreline, in sweet water.\n \nWe fed wild dogs overripe apples and herring.\n\nMy hands shine with hunger.\n \nHer hair hung in willow boughs, mine in wild onion.\n\nI reel the small fish of time.\n \nThe end never happens and always happens.\n\nIn winter we suet the trees. The cardinals arrive like snow.\n \nI braid her willow hair. I tie her shoes once more.\n\nIt is winter again. The birches like crooked combs.\n \nWhy are you crying?        Why are you crying?\nBegin but start with the end:\n \nin spring she is pregnant. In summer she is not.\n\nThe baby swims in every room.\n \nSee where our steps wet the hallway?\n\nThat was when we were swept away.Source: Poetry (October 2019)",
         "https://www.poetryfoundation.org/poetrymagazine/poems/150934/the-years-of-water-light"
        ],
        [
         "17",
         "poetry-magazineJagged Winter Trail Designs",
         "By Sy Hoahwah",
         "     The wagon and mule, Time and Eternity, stop to change places. Their lean and slope-back shadow, my reservation. The moon moves like infested flour. At the river, bloody victories meet bloody massacres. They tell each other about their...",
         "     The wagon and mule, Time and Eternity, stop to change places. Their lean and slope-back shadow, my reservation. The moon moves like infested flour. At the river, bloody victories meet bloody massacres. They tell each other about their dead.\n     Grandmothers eat buffalo instead of hamburger. After supper, guitar chords bite through gravestone. Then the one grandfather interrupts, walking off with his own skull as a lantern into the polar night. Snowshoe hare cleans the ears of the sleeping and leaves prophetic dreams.\n     It is quiet. One can hear the hair of the dead grow. The woods, itself, dressed in frozen children’s clothes. Few of the living disguise themselves as pawned beadwork.\n Source: Poetry (October 2019)",
         "https://www.poetryfoundation.org/poetrymagazine/poems/150923/jagged-winter-trail-designs"
        ],
        [
         "18",
         "poetry-magazineA poem from From a Winter Notebook",
         "By Matvei Yankelevich",
         "As winter went on, every morning’s spoon of buckwheat honeyresembled more the taste of that isosceles at midpointof your weight, its smell brought sweetly back the pendulum-like pacemoving us from windowsill to floor, from floor to bed, and backto floor,...",
         "As winter went on, every morning’s spoon of buckwheat honey\n resembled more the taste of that isosceles at midpoint\n of your weight, its smell brought sweetly back the pendulum-like pace\n moving us from windowsill to floor, from floor to bed, and back\n to floor, mapping haste’s measure of the room, our smell, but also\nmeubles, book dust, hanging smoke, an open bottle, everything\n connecting now for me, as smells will do, things that don’t connect,\n may not be mine in memory, like childhood’s corridors, cats,\n other’s bodies, and maybe other minds. All this from the spoon:\n sweet, grassy in my nose, cloying almost, bitter on the tongue.\n Yet, as clear as memory of pace, of smell, of movement made—\n strange: where is the sound of us as we moved with one another?\n  Copyright Credit: Matvei Yankelevich, \"A poem from From a Winter Notebook.\" Copyright © 2019 by Matvei Yankelevich. Used by permission of the author for PoetryNow.Source: PoetryNow (2019)",
         "https://www.poetryfoundation.org/poems/151125/a-poem-from-from-a-winter-notebook"
        ],
        [
         "19",
         "[Today, running along the river]",
         "By Jimmy Santiago Baca",
         "2.Today, running along the river,                 dead leaves cling                 to cathedral cottonwood branches,                 snap in the gusty breeze,                 give a crisp hiss . . .A wafer thin wind spades uploose dust from the path,and above me,gray leaves clash soft in towering...",
         null,
         "https://www.poetryfoundation.org/poems/53240/from-winter-poems-along-the-rio-grande"
        ],
        [
         "20",
         "Pencil Letter",
         "By Irina Ratushinskaya",
         "I know it won't be receivedOr sent. The page will beIn shreds as soon as I have scribbled it.Later. …",
         "I know it won't be receivedOr sent. The page will beIn shreds as soon as I have scribbled it.Later. Sometime. You've grown used to it,Reading between the lines that never reached you,Understanding everything. On the tiny sheet,Not making haste, I find room for the night.What's the hurry, when the hour that's passedIs all part of the same time, the same unknown term.The word stirs under my handLike a starling, a rustle, a movement of eyelashes.Everything's fine. But don't come into my dream yet.In a little while I will tie my sadness into a knot,Throw my head back and on my lips there'll be a seal,A smile, my prince, although from afar.Can you feel the warmth of my handPassing through your hair, over your hollow cheek.December winds have blown on your face . . .How thin you are . . . Stay in my dreamOpen the window. The pillow is hot.Footsteps at the door, and a bell tolling in the tower:Two, three . . . Remember, you and I never saidGoodbye. It doesn't matter.Four o'clock . . . That's it. How heavily it tolls.Copyright Credit: Irina Ratushinskaya, \"Pencil Letter\" from Pencil Letter.  Copyright © 1989 by Irina Ratushinskaya.  Reprinted by permission of Penguin Random House LLC.Source: Pencil Letter (Alfred A. Knopf, Inc., 1989)",
         "https://www.poetryfoundation.org/poems/1618651/pencil-letter"
        ],
        [
         "21",
         "The Rabbi’s Red Ink",
         "By Shereen Akhtar",
         "In our first house-let in London, she drew on the tablecloth to createa calligraphic feast. Our friends…",
         "In our first house-let in London, she drew on the tablecloth to createa calligraphic feast. Our friends all begged for her ink on their bodies. Alefs that rose up from one side to form a podium.Once, I leaned her back, mouth to mouth in the kitchen, claimed a medal of my own, but I never knew which words were holy.Shereen, eize seret. So I list our choices, two movies, set in Egypt? The braids on her challah deflate as they cool, becoming rigid, dustywith flour in the ridges. She laughs no—it means I have a story to tell. Khaloosh on the sofa, she said: you know how I wished I couldget a tattoo? Lost in the museum gift shop, she stood for hours studying colour charts, the red too reluctant to spreadagainst the orange like ants’ faces to flames. Bat sheer. Songbird. Muse.Daughter of poetry. From Tel Aviv, she drove us miles into the desert. She stayed up,a crumbling blintz stuffed with mushrooms and rice, to read Shofet by the light of her phone. Moshe through Shmuel. Esh, she said.Sof haderech. It’s over. It was good. She’s almost a judge herself but at night, she flips me over from sleep. When I don’t protest,she says chetzi co-ach. Half strength, half power. I learned Hebrew from a website. After she drew my name in ink. I asked her againto invade my body with it. Excusing myself, I borrow her alphabet. Still I confuse ayin with tzadi—which is the body with a head?Outside, we are stalked by red-breasted robins. When we visit her cousin in Tel Aviv, they share a red-lipped joint.Lost in the gift shop, she separated pigments, grids in her eyes. Daughter of poetry. Once I leaned her back, mouth to mouth,she said: you will never believe what happened. Al tarshah li! Her favourite bird: a robinperched on a desert rock. As she turns, I spy red burn under the ink.People may try to shoot her. Her guilt tries to shoot her.When she walks riff out in the desert, she slouches take a photo. I kiss the calligraphyon her skin too holy to touch. The words burn. The words are moot.Copyright Credit: Shereen Akhtar, \"The Rabbi’s Red Ink\" from Rabbi / Robin. Copyright © 2024 by Shereen Akhtar.  Reprinted by permission of Blue Diode Press.Source: Rabbi / Robin (Blue Diode Press, 2024)",
         "https://www.poetryfoundation.org/poems/1608291/the-rabbis-red-ink"
        ],
        [
         "22",
         "Notes on Devotion",
         "By Caroline Harper New",
         "A man by the name of Skinner becomes famousfor keeping caged        pigeons, whom his clock feeds or starves        at random. Their tiny twitching heads exaggerate until...",
         "A man by the name of Skinner becomes famousfor keeping caged        pigeons, whom his clock feeds or starves        at random. Their tiny twitching heads exaggerate until     one bird swings its weight like a pendulum;    one turns counterclockwise three times;    one aims its beak to the corner and sings, My love let me break, which has nothing to do with the cage.   The point is, the pigeons    invented their own religion. Aimed litanies              at an empty sky until something      broke, and something was mechanical.I still hold the shape of his skull to my sleeping chest            and call his name     over and overto the wrong man. Though the manna that fell was nothing      but accident, it conditioned the birds to aim weapons.     The accuracy with which they pecked the homing radar         was unswayed by Skinner's pistols  or pressure chambers—the centrifugal loop that swung their bird-bones                broken, until their hearts were locked in place.If you feel pressure on the neck, remember—lockets      used to be a sign of mourning, stuffedwith hair or cutouts of a lover's eyes. I've seen love                 pecked to death and the godssculpted from that accident. I've aimed    my head to the corners of the sky and opened   my mouth so wide, I've thought my beak would break. Like clockwork                   I coo                      Let me break         my love, and skin the feathersfrom that wound. Religion requires ritual:                to do the same thing over                     and over  despite pressure in the skull, or a pistol to the breast, but I still remember my own young Sunday. The hollow sanctuary, where behind the preacher's head   a bird flew into the window over               and over, and we                           just kept singing.Copyright Credit: Caroline Harper New, \"Notes on Devotion\" from A History of Half-Birds.  Copyright © 2024 by Caroline Harper New.  Reprinted by permission of Milkweed Editions.",
         "https://www.poetryfoundation.org/poems/1636746/notes-on-devotion"
        ],
        [
         "23",
         "The Skin's Instruction",
         "By Jessica Rigney",
         "It's important she says that summerFlatten itself against autumn. That it keep Insisting yes yes it'…",
         "It's important she says that summerFlatten itself against autumn. That it keep Insisting yes yes it's true yes the heatMakes things difficult. She shows him How her shoulders have gone. Darker stillBut do you remember she looks with eyes Wide how cold the cold is. HowWe can barely stand morning until Hot showers—press the heat insideOur bones again he's trying. Hard To let go a need for comforts to recallHow simple the skin's instruction. Here She says pointing to the open. NightWinds have come and now you've only A moment longer before the breathing. BeginsAnd it'll be alright as you sleep and tomorrow Everything changes again whenYou'll see how summer. Knows how There isn't time for fuss just enterThe day she says just enter the poem just. Copyright Credit: Jessica Rigney, \"The Skin's Instruction\" from Something Whole.  Copyright © 2021 by Jessica Rigney.  Reprinted by permission of Finishing Line Press.Source: Something Whole (Finishing Line Press, 2021)",
         "https://www.poetryfoundation.org/poems/1587269/the-skins-instruction"
        ],
        [
         "24",
         "[Let me not to the marriage of true minds]",
         "By Trevor Ketner",
         "tongue / rim a soft hole—tender meat trim—mind leitmotiv (doe, moss, petal, vein,hart, hilt, waist, …",
         "tongue / rim a soft hole—tender meat trim—mind leitmotiv (doe, moss, petal, vein,hart, hilt, waist, fawn)—incoherent slide(strewn rib)—hooved mother—move treeto invoke sex—a dim refrain:eat harvest, smoke, stones, pond—thin anklesvinetwist—artery rite (beargod shank)—night enshawls house—hook / web goth twink—hare huntunfolds (smooth rope choke)—i hag sly, sent violetsin these hips—moon climbs neck, swigs acid(she blushes)—war horse in a field—work it to vent—tug me soft, devour it—to bone, be doeheat /doehue—trans vibe: i'd perform porn—riven nerve, red oval, winter moon.Copyright Credit: Trevor Ketner, \"[Let me not to the marriage of true minds]\" from The Wild Hunt Divinations: a grimoire.  Copyright © 2023 by Trevor Ketner. Reprinted by permission of Wesleyan University Press.Source: The Wild Hunt Divinations: a grimoire. (Wesleyan University Press)",
         "https://www.poetryfoundation.org/poems/1585877/let-me-not-to-the-marriage-of-true-minds"
        ],
        [
         "25",
         "Rewind",
         "By Anastasia Taylor-Lind",
         "It’s 9/11 the first time you stay.In the morning you bring Taliban poems back to bed.I drink cardamom…",
         "It’s 9/11 the first time you stay.In the morning you bring Taliban poems back to bed.I drink cardamom coffee and you read their tender lines‘May you not be hungry in the desert, my dear’.Their loving as ordinary as ours.I see wilding men shouldering RPGs by the swimming poolof a warlord’s compound and think they’re beautiful,watch a dentist fall to Earth from an aeroplane undercarriagerising over Kabul.Human payload slipping from the landing gear,falling through swipes, scrolls and clicks.Rewind the tapes, see the little man flying upwards,returning to his life,rewind the tapes.Like Bruegel’s Icarus, he touches down with a splashin a rooftop water tank 4km away,his suffering unnoticedexcept for a casual cell phone recording.Twenty years ago, the twin towers man fell too,twisting and turning, tie fluttering,past flames and smoke, for a moment head first over Manhattan.Rewind the tapes, see the little men flying upwards,returning to their lives,rewind the tapes.We lie under a marigold-embroidered bedspreadbought in Afghanistan.I’m afraid of you,not you exactly, but of falling for you.My old friend Tom took me on that shopping tripin an armoured vehicle with his bodyguardand I remembered the summer before the end of uni,how he and I sat up late, drinking Jameson,listening to Johnny Cashand imagining our own deaths,together, somewhere in a dusty alley,all golden light, slow motion and elevated camera angles.We took it in turns who was doing the dyingand who was doing the cradling.Copyright Credit: Anastasia Taylor-Lind, \"Rewind\" from One Language.  Copyright © 2022 by Anastasia Taylor-Lind.  Reprinted by permission of The Poetry Business.Source: One Language (The Poetry Business, 2022)",
         "https://www.poetryfoundation.org/poems/1580583/rewind"
        ],
        [
         "26",
         "poetry-magazineHe Was Chaotic",
         "By Fatimah Asghar",
         "My teacher says of their cat, now gone\nmissing. In his absence, everything is still.\n\nThe small, silvered…",
         "My teacher says of their cat, now gone\n missing. In his absence, everything is still.\n\n The small, silvered line\n in a grief-filled night.\n\n When my love arrived into my life\n they brought noise. Their ideas\n\n their laugh, their loud joy. They rumbled\n thunder in the distance.\n\n Then, the dog came too. Noise.\n His fluffy-eared need to play.\n\n Before, it had been so quiet. My minutes\n looming to more minutes.\n\n Time. Oh, time. They came\n and the seconds collapsed.\n\n Entire months, blurred. Love\n a time machine. Love, a spaceship\n\n mystery. On the morning I watch\n dolphins play in pairs, my teacher\n\n tells me about their cat. Oceans\n in their eyes. The dolphins play\n\n with each other. They flirt. One day\n when my loves leave, be it by choice—\n\n theirs, mine, or God’s, the sadness\n that threatens to take. But oh\n\n today, when the dolphins leave\n our sight, the water is quiet.\n\n Still, under the sun.Source: Poetry (January/February 2025)",
         "https://www.poetryfoundation.org/poetrymagazine/poems/1639244/he-was-chaotic"
        ],
        [
         "27",
         "poetry-magazineEileen",
         "By Olive Franklin",
         "\n    Loved you since I was little, on the playground break-time\n    -brawled with you and your mismatched cuffs…",
         "\n     Loved you since I was little, on the playground break-time\n     -brawled with you and your mismatched cuffs, tufts of Eileen\n\n     -brown hair pinned down like a sheep under a sheet. You wanted love\n     the way boys got loved, begged for it with all that Eileen\n\n     swagger and jaw. When we bump together at the bar, I’m still trying to tackle\n     the ball from under you, kick my voice through the goal posts of Eileen’s\n\n     throat. Ripping our rumors from the jukebox. Years, I thought I was a dog\n     wrestling with what I was not allowed to eat, climbing Eileen\n\n     -shaped trees in my fresh whites, getting in fights with any boy\n     who claimed he was more fuckable than some dyke. Eileen,\n\n     my hilltop-hike, my lucky-strike, watching from the other side\n     of every woman I’ve kissed—leather-bombed, corner-bound, Eileen,\n\n     you never left me lonely. We’ve been night-terror brokers, six-pack-it\n     -till-it-kills-us smokers. I hope we make it to be quitters. Leave an Eileen\n\n     -sized hole in the city and slip out the last train, steal motorbikes,\n     build kites, christen every sweetheart on the M-track Eileen\n\n     and behind your back I’ll tell girls in cafs how fortunate I am\n     to have found something I could chase down all my life—Eileen.\n\n\n\n\n \t\tIllustration by Haley Jiang\n \t\nSource: Poetry (January/February 2025)",
         "https://www.poetryfoundation.org/poetrymagazine/poems/1639204/eileen"
        ],
        [
         "28",
         "poetry-magazineMiddle School Dance",
         "By Nicole Tallman",
         "To all the boyswho asked meto dance and to all the boys to whomI said yes and to all the steps we took…",
         "To all the boyswho asked meto dance and to all the boys to whomI said yes and to all the steps we tookright and left and to the one who boughtme a corsage of rosesto match my dress and tothe one who asked meif  I wanted a kiss and to the one I kissed even thoughI didn’t want to kiss and to the one who kissed the girlI really wanted to kiss— I wish my wishes were kisses. Source: Poetry (January/February 2025)",
         "https://www.poetryfoundation.org/poetrymagazine/poems/1639252/middle-school-dance"
        ],
        [
         "29",
         "poetry-magazineThe Time Traveler Finally Falls in Love",
         "By T.S. Leonard",
         "and it ends, of course, in fabulous heartbreak, like anything—it’s not an if, but when—so the trick …",
         "and it ends, of course, in fabulous heartbreak, like anything—it’s not an if, but when—so the trick is learning how to bendthe days you get: nailing our flowers to the wall, readingside by side; memorize his body curving like a questionmark, asking, can we stay like this forever? We can.We travel to his boyhood home; to ancient Rome; tomy twenties where we laugh at what I thought was reallove; we see art in every century. We grow old togetherat different times. We rebuild our ship from scrapsof former relationships—debris of who we havebeen or seen, blueprints for our future past. We hostour friends for cocktail hours. We sign a lease on a house.I meet his friends, and through them, I love him more. I takehim to his first drag show. He talks us through our first fight;we have the same fight again. We kiss on corners just becausewe have fought hard for it. We make up words for this. I say,I have never been in love. I ask, how will I know what’s next?He takes my hand. He takes me home. We meet, as strangers,on a blank morning, and he says he doesn’t have much time.Instantly, I recognize this man. I’ve been waiting here for him. Illustration by Matt HuynhSource: Poetry (January/February 2025)",
         "https://www.poetryfoundation.org/poetrymagazine/poems/1639274/the-time-traveler-finally-falls-in-love"
        ],
        [
         "30",
         "poetry-magazineso coffee is a laxative & i am writing this poem on the toilet",
         "By Vanessa Deering",
         "in the building two women’s restroom & in the strangest placesi want to tell you the most mundane things…",
         "in the building two women’s restroom & in the strangest placesi want to tell you the most mundane things                  how this afternoonour favorite barista added a free extra shot of vanilla to mycoffee with a wink& a  just because it’s strong doesn’t mean it has to behard to drink& around my straw, I thought            this is what the sharpness of wanting youtastes likesyrupysoftness of midnight shadow                             in quiet alleysi finish my own sentences after walking you homeis it too early to say       my smile misses you? my smile’s smile       crescent moony-gazedyour eyes radiantin the sabbath sungossamer sheengrove christmas tree multichromelike beesting,i am afraid of my own swollen hearti am so afraid for youSource: Poetry (January/February 2025)",
         "https://www.poetryfoundation.org/poetrymagazine/poems/1639276/so-coffee-is-a-laxative-i-am-writing-this-poem-on-the-toilet"
        ],
        [
         "31",
         "poetry-magazineMarch",
         "By Jessica Jiang",
         "Tiffany,I’ve gotten used to sunlight with you,but no pressure! Just—spring doesn’t hurt as much anymore…",
         "Tiffany,I’ve gotten used to sunlight with you,but no pressure! Just—spring doesn’t hurt as much anymore.Your softness,as the green seeps in.I’ve got only 27¢and some soulto spend on you.Sudden sunlight striking through,to find myself kneeling.My bones shatteredthen welded into this sudden page and you.In a dorm room,we make sin out of our bodies,such joy despite illegality.There is no shame in lovelike this: our mouths open,gasping white plumes,we send messages to the sky.YesterdayI opened my coatand your yellow hair flew outlike a migrant bird.I watched the wind take it upwardand I was beside you, flying.  Notes: Audio poem performed by the author with audio engineering and mixing by Benjamin Davis.Source: Poetry (January/February 2025)",
         "https://www.poetryfoundation.org/poetrymagazine/poems/1639278/march"
        ],
        [
         "32",
         "Guilt or Dread What An Amazing Instrument You Are",
         "By Karen Houle",
         "\n    Pulling the foreign body off me—\n\n\n     \n\n\n    out of the dress up over my arms through the neckhole—\n    he says, You…",
         "\n     Pulling the foreign body off me—\n \n \n      \n \n \n     out of the dress up over my arms through the neckhole—\n     he says, You are more beautiful than a school spelling prize.\n \n \n      \n \n \n     Muezzin sirens us to break the fuck\n     into a run; the banquet table taps her feet in disapproval.\n \n \n      \n \n \n     It's bride season.\n     I'm his take on the call to prayer.\n \n \n      \n \n \n     His sister sticks a sapphire in her ear for emphasis.\n     Brothers like whiskered pears wanting kisses they already got\n     stand well behind the language barrier.\n \n \n      \n \n \n     The Fair Queen imitated\n     an everyday and normal love for this the first occasion of my lips\n     at her translucent cheek, twice, his whole smell on me,\n     alarms, up and down my tunic.\n \n \n      \n \n \n     She changes her mind out there on the balcony in full view of everyone.\n \n \n      \n \n \n     What sounds from the street like storytime, like sing-song,\n     turned out to be a species of hostage-taking.\n \n \n      \n \n \n     Next year by this season, at best\n \n \n      \n \n \n     I am the paper confetti is punched from,\n     the holes left that other joys straddle.\n Copyright Credit: Karen Houle, \"Guilt or Dread What An Amazing Instrument You Are\" from during.  Copyright © 2008 by Karen Houle.  Reprinted by permission of Gaspereau Press.Source: during (Gaspereau Press, 2008)",
         "https://www.poetryfoundation.org/poems/1601120/guilt-or-dread-what-an-amazing-instrument-you"
        ],
        [
         "33",
         "You Are Beautiful ",
         null,
         "Cass Donish on grief rituals, putting on makeup, and letting in joy.",
         null,
         "https://www.poetryfoundation.org/audio/1623518/you-are-beautiful"
        ],
        [
         "34",
         "poetry-magazineTransgender opera for perpetual metamorphosis",
         "By heidi andrea restrepo rhodes",
         "I: My beloved is called an inconceivable beast, a spectacle diagnosed with teratoid genitalia, a chaos…",
         "As of October 2024, 658 anti-trans bills were under consideration across the United States, seeking to deny trans people access to basic healthcare, education, safety, legal recognition, and the right to exist (see translegislation.com).I: My beloved is called an inconceivable beast, a spectacle diagnosed with teratoid genitalia, a chaos of pronouns, a body breaking the rules. Hair & suture & unexpected timbre, outside the map. My beloved is first in the firing line. In the active shooter drill, given no refuge. We are expunged from curricula, disallowed the toilet’s relief. Fascistic tendencies festering. National evangelism of binaries taken as daily bread. A congressman in Florida jokes about putting us all to death, a pastor in Texas gives Sunday Sermon saying every gay person in America should be executed—lined up & shot in the head. The Supreme Court stuffs its mouth with theories of religion. Police steel our kin down to concrete & coffin. A brass & parabellum cessation of breath.\nInterlude: It is telling that Western science has a term for animal behavior called “deceptive sex signaling.” (See marsh harriers & hummingbirds, for example.) All malleability a criminal betrayal for panic defense. No opera for perpetual metamorphosis.\nII: Neither Man, nor Woman, I am water & shorebird. Over tea, we ask the hard questions. How to reach beyond this periphery. Reverse the enclosures of mind. All bodies in theatre. All theatre, life.\nIII: My beloved says we are cosmic faggots, making new & better pleasures. Generations of illegible & exquisite. Extending possibility to the youngers. We are years of chrysalides, wild longings & wing. Among the immortelles: again, then again, & again. My beloved wields the syringe, a chemical & intramuscular intimacy. I kiss his pectoral scars, lick the summer beaded up in his clavicle. He carries me to the bedroom where we make an ambient weather, hold each other to the bone. My beloved suffocates in the bind. Passing: a difficult joy & sorrow. In the laboratory of our bodies, experiment cobbles glimpses of freedom. We tape our chests, we punk & drag. Leave norms in the gutter. Herald us a wreckage of genders. Name ourselves extraordinary monsters.\nI take inventory in the holy hours & find:             we are a transgression\neverywhere, beautiful & alive. Notes: This poem is part of the portfolio “The Chorus These Poets Create: Twenty Years of Letras Latinas.” You can read the rest of the portfolio in the December 2024 issue.Source: Poetry (December 2024)",
         "https://www.poetryfoundation.org/poetrymagazine/poems/1625118/transgender-opera-for-perpetual-metamorphosis"
        ],
        [
         "35",
         "poetry-magazineTranscendental Love Song",
         "By Darrel Alejandro Holnes",
         "This love dares not speak its name\nin some states\nuntil your eyes say it\non a beach in Ft. Lauderdale…",
         "For CarlThis love dares not speak its name\n in some states\n until your eyes say it\n on a beach in Ft. Lauderdale,\n staring into mine\n and the cosmos spins\n out of my iris y nos nubla\n y nos vuela into the postulated sky\n of matted matter and sparkling light\n safely in a haze of shadows and shine,\n away from the marches against our marriages\n and the congressional bills\n against our histories being taught.\n I cannot say how much I love you\n in Brickell or Tampa\n but I can look back at you\n painting perfectly a thousand ways\n for me to say, “be mine.”\n Don’t you see? This is not\n a barren love. Ours is a lust\n like hydrogen or helium.\n Once we have each other,\n we need not be named\n to be elemental, to be beyond\n city or state. We need not\n be named to be animal, raw,\n and rocket shipped,\n shooting through the universe\n with the engine’s torque pulling us\n even closer together than\n “skin to skin” could ever describe. Notes: This poem is part of the portfolio “The Chorus These Poets Create: Twenty Years of Letras Latinas.” You can read the rest of the portfolio in the December 2024 issue.Source: Poetry (December 2024)",
         "https://www.poetryfoundation.org/poetrymagazine/poems/1625110/transcendental-love-song"
        ],
        [
         "36",
         "poetry-magazineFrom “carrying songs from the sky to crease the ground”",
         "By Janice Lobo Sapigao",
         "\n1.\n\ni wish i could tell you why i go back and forth between cities.\nmaybe i belong to the bridges &…",
         "After Sonia Sanchez, Sarah Russell, and Barbara Jane Reyes with E-40, H.E.R., YG, Mac Dre, Dorrough, The Supremes, and Joe Bataan\n1.\n\ni wish i could tell you why i go back and forth between cities.\nmaybe i belong to the bridges & 880 freeway. maybe loneliness\n\nis not an ending / i want these songs to show me the way / \n\n\t\tback\n\t\tto \n\t\tmyself:\n\n\n\ncan i build you a playlist? / cold air over warm water: /\ntopline fog walls on the peninsula / the songs go:\ndumb dumb & s l i d e / most nights i’m a slow jam /\na two-step / a mist / a fantasy /\n\n2.\n\ni try not to think of other versions. [if i had three lives, i’d you in two.]\n[the other?] didn’t sonia sanchez write a way?—for all the women who have\never stretched their bodies out anticipating civilization & finding ruins?\n\ncan i show you places where\ncities have nearly broken me?\n\nmaybeucanhelp\ni’m having some\ntrouble believing\nthat bad & good\nareoppositethings\n\nwhat if you came\nto see about me?\n\ni would take you\nto a concert or\na lake / around\nhella ppl just to\nbe alone & then\n\ni would take you\nto a bookstore\nbut not to read.\n\n& well what if we\nkissed too much?\n\nourlipsstackedlike\nbooksontheshelf.\nanticipatingtouch.\n\n‘there goes the day\nbecoming shadow,’\namongourwhispers.\n\n\n\n\t\ti’m afraid i want to blur\n\t\tthe lines / i don’t plan on\ngetting no sleep / while we\n\n\t                \n\t\n\t\tthe premise:\n\t\tthese poems\n\t\ttake place\n\t\tin the dark\n\nSource: Poetry (December 2024)",
         "https://www.poetryfoundation.org/poetrymagazine/poems/1625050/from-carrying-songs-from-the-sky-to-crease-the-ground"
        ],
        [
         "37",
         "Dirty Valentine",
         "By Richard Siken",
         "There are so many things I’m not allowed to tell you.      I touch myself, I dream.Wearing your clothes…",
         "There are so many things I’m not allowed to tell you.      I touch myself, I dream.Wearing your clothes or standing in the shower for over an hour, pretending    that this skin is your skin, these hands your hands,                  these shins, these soapy flanks.  The musicians start the overture while I hide behind the microphone,trying to match the dubbing              to the big lips shining down from the screen.      We’re filming the movie called Planet of Love—there’s sex of course, and ballroom dancing,    fancy clothes and waterlilies in the pond, and half the night you’rea dependable chap, mounting the stairs in lamplight to the bath, but then        the too white teeth all night,  all over the American sky, too much to bear, this constant fingering,    your hands a river gesture, the birds in flight, the birds still singingoutside the greasy window, in the trees.                      There’s a part in the moviewhere you can see right through the acting,       where you can tell that I'm about to burst into tears,  right before I burst into tears          and flee to the slimy moonlit riverbed                  canopied with devastated clouds.We're shooting the scene where I swallow your heart and you make me    spit it up again. I swallow your heart and it crawls                        right out of my mouth.You swallow my heart and flee, but I want it back now, baby. I want it back.  Lying on the sofa with my eyes closed, I didn't want to see it this way,everything eating everything in the end.        We know how the light works,                we know where the sound is coming from.  Verse. Chorus. Verse.I’m sorry. We know how it works. The world is no longer mysterious.Copyright Credit: Richard Siken, \"Dirty Valentine\" from Crush. Copyright © 2005 by Richard Siken. Reprinted by permission of Yale University Press.Source: Crush (Yale University Press)",
         "https://www.poetryfoundation.org/poems/1585836/dirty-valentine"
        ],
        [
         "38",
         "“Fragment Thirty-six” by H.D. & Sappho",
         "By Dan Beachy-Quick",
         "Translation as Permission",
         null,
         "https://www.poetryfoundation.org/articles/162853/fragment-36-by-sappho-hd"
        ],
        [
         "39",
         "poetry-magazineHungry Love",
         "By Jayne Cortez",
         "      Warm night of flesh pimples             AloneFear pressing between my eyes the mark of despair& my thighs once …",
         "      Warm night of flesh pimples             AloneFear pressing between my eyes the mark of despair& my thighs once a sanctuary guarding your precious cage of ribshave shivered to invisibility            and do not existForget the oceanLove water falling from the gate of my soulfor the sea wiped its eyes sometimes agoand all is dry             MadnessWhat is this madnessHungry love bathed in hot cinderswaiting to be drenched in rain crying from your open poresLove the mystery of life      The seed             The Master Seed you said                    Livesand like a bleeding locustfeeding from this treethe ripe plum of everlasting love    I kneelhumbling myself before perfectionMy quick tears sagging the earthas I eat mud to touch the root of you  Notes: This essay is part of the portfolio “Jayne Cortez: I Imitate No One.” You can read the rest of the portfolio in the November 2024 issue.“Hungry Love” is excerpted from Firespitter: The Collected Poems of Jayne Cortez (Nightboat Books, 2025) and was originally published in Pissstained Stairs and the Monkey Man’s Wares (1969). We are grateful to Nightboat Books for their assistance in compiling this folio, and to the estate of Jayne Cortez for their permission in reprinting this poems.Source: Poetry (November 2024)",
         "https://www.poetryfoundation.org/poetrymagazine/poems/1615064/hungry-love"
        ],
        [
         "40",
         "Don't Touch",
         "By Sarah Carson",
         "The first gun we knew came in a toolbox for the apocalypse: hammer, barrel, crushed can, pack of Newports…",
         "The first gun we knew came in a toolbox for the apocalypse: hammer, barrel, crushed can, pack of Newports, a ballpoint pen someone took apart. Momma said, Don't touch & we didn't—because all that could happen next seemed obvious: blue lights in the windows of houses already turned out for the evening, boys with pockets clenched in their fists. Brother says it was there—next to the TV remotes, the box of tissues—that the pistol became a whole thing. One boy grabbed at another's t-shirt & the sounds that came next were fire spreading up a staircase, the sounds of a freight train with a cement block in its tracks. The gun was afraid of nothing—not daylight, not trouble—& Brother palmed it like he was drawing from a stack of discards. When one boy jumped another, opened his temple onto concrete, where earlier in the afternoon two boys shot rock, shot scissors, soon there were spiderweb cracks in the laundromat window, holes just big enough to fit our fingers. There were stray shells that needed picking from the grass before another girl showed up with a lawnmower. Don't touch, we told kids riding big wheels in nothing but diapers & sunglasses, kids with whole collections of shells in shoe boxes. Don't touch, we told the dog, his muzzle a divining rod, his body a strung bow.Copyright Credit: Sarah Carson, \"Don't Touch\" from How to Baptize a Child in Flint, Michigan. Copyright © 2022 by Sarah Carson. Reprinted by permission of Persea Books, www.perseabooks.com.Source: How to Baptize a Child in Flint, Michigan (Persea Books, 2022)",
         "https://www.poetryfoundation.org/poems/1586719/dont-touch"
        ],
        [
         "41",
         "Stories No One Wants to Hear [V-XII]",
         "By Anastasia Taylor-Lind",
         "v.Isn’t it dangerous to be a woman? Surrounded by men, questionsabout risk-taking, parenting (I’m childless…",
         "v.Isn’t it dangerous to be a woman? Surrounded by men, questionsabout risk-taking, parenting (I’m childless) and personalrelationships are directed at me. I am a female photojournalist,Guy is a photojournalist, and Ivor’s male gaze is just his own.Has anyone ever hurt you? is what they are really asking. Theyhave but not in the field. War, depending on how you defineit, is everywhere and home is the place where women andgirls face the greatest threat of violence. It is safe here, but notout there, has been used to confine us for centuries.My dad beat my mum, and me too when I tried to protecther. We all seek to reproduce the familiar conditions of ourchildhood, even when we are trying to escape them. Violenceis familiar to me, it has always been present in my life and myrelationship with it shaped my relationship with photography.I was less than a year old when I first watched a punch-up,from my mum’s arms and at a safe distance, according toher. We were at a Gypsy horse fair in Suffolk when around ahundred people beat each other in a beer tent over a trottinghorse crash. Thank God you were too young to remember, Mumsaid, and I was, because this was the first I’d heard of it.  vi.My dad had been a teenage boxer in the East End, like his dad.It was him who taught me how to throw a punch, the summerbefore starting high school, coaching me through littletechniques – making impact while my arm was still tightlyinto my chest and keeping my weight centred. Tivvy Highwas rough and he encouraged me to hit anyone who bulliedme. He said Anastasia, some people only understand one language.My dad was the first person I punched, to stop him fromhitting my mum.  vii.I called the police for the first time at the end of July or beginning ofAugust 1993. B.T had thrown plates at me and tried to strangle me. I went tomy caravan, then he repeatedly banged hard at the window andwalls and shouted abuse, both I and the children were extremelyfrightened. I phoned the police, who came (one man and one woman). Theyasked B.T to stay in his caravan and me in mine, for the rest of thenight, which we did. Second time B.T called the police. He had continued with hisattacks on me through the month of August by hitting me, andtrying to strangle me, I had bruises on my face and neck, he had cutmy telephone line and smashed a kitchen cabinet and wooden chestwith an axe. B.T was also at this time violent to Anastasia. It wasn’t till theautumn of 1994 that I took her to the doctor (Dr Saville, Tiverton).  viii. I do remember this. Being taken there, not for treatment, butto record the marks on my arms and legs after an attack. Ahumiliating, clinical and methodical process. The doctormade notes on the length and position of scratches. Maybehe photographed them. I kept a straight face. If I acted likeeverything was OK, it would be. Polite. Process. Paperwork.The bureaucracy of violence.I read these custody transcripts for the first time. Mum and Italk it through. She tells me about a time we were leaving fora party when Dad gave her a black eye.Did we go to the party? Yes.What, with a black eye? is all I say.  ix.The second person I hit was Laura Packer for calling mypony Melody ugly. We were twelve and I knocked out one ofher front teeth at lunchtime. At my school arguments weresettled when one party officially challenged the other to ascrap at a designated time. Word spread through classroomsand later a crowd gathered to watch the duel until someteacher heard the jeering and broke it up. I hated school andgot in trouble often.The third person I punched was Philippa Cottrell, in mathsclass a few years later. She was one of the toughest bullies andI wasn’t quiet enough to go unnoticed. Telling the teachersdidn’t stop Philippa. On this day there was a faint-heartedsupply teacher standing in. The classroom belonged toPhilippa. From her elite position on the back row she used aruler to pelt the back of my head with chewed up jotter paper.I sat in humiliating silence for a few minutes, knowing thesupply teacher would not do anything.I found myself folded over Philippa, the fingers of one handtangled in her thick curly fringe, while I pummelled her inthe face with the other. I got two punches in before ClaireAgnew pulled me off and the supply teacher went running forhelp.I’d only bloodied Philippa’s nose, but I’d done it in front ofeveryone and I was never picked on again.  x.The first time I encountered violence as a photographer wason my 21st birthday. I was making pictures for university at a Gypsy fair in Stowe-on-the-Wold and Dad’s old friend Mark Palmer took me fordrinks that evening. An altercation began between two men– each of them standing, chests puffed, removing their coatswith ceremony. I realised too late that I was the only womanleft in the pub and then the whole room went at each otherwith fists, beer glasses and chairs.Mark climbed onto his seat to get a better view and calmlyreviewed the chaos with crossed arms, while the men next tous pushed me and a young boy under the table, covering uswith their coats. Shaking and with my arms around the boy, Itold him Don’t worry, it’ll be ok.I know. It’s always like this he said. I stuck my head out onceduring the fight and saw, through the window, a group ofmen pulling down a lamppost and using it as a battering ramagainst the door. Beyond them stood a line of police – silentand still. Mark told me to get out and make pictures. I didn’t.I was too afraid.Witnessing violence played out on many different scales ledme to become a pacifist, to oppose violent solutions underany circumstances – personal or political. Sure I would neverhit anyone again.  xi.A cold December evening in a South London pub with a bigphoto crowd after an exhibition opening.A few months earlier my friend Guy had been blown up andthough now recovering would be disabled for life. A bald,thick-set photojournalist in his late thirties came up to me,drunk and looking for confrontation. He insulted Guy. Thewhole pub went silent, watching.I tried ignoring him but he just got louder, nastier. Pride andloyalty wouldn’t let me leave the room. When I tried to speakhe shouted over me that we all know Guy made money fromgetting injured. I remember hearing that. Then I was staring into his eyes,hitting him with a left, then a right, then Ivor was draggingme away.Two bystanders hoisted the man up. He was shouting You’refucked in the head, Anastasia, fucked in the head. You’ve gotfucking PTSD.  xii.I should not have hit him. The illogic of violence only madesense in that moment of utter frustration when I was unableto reach this man with words.Anastasia, some people only understand one language.And if I ask myself now – given the chance, would I have shotthe Libyan soldier who trained the mortar onto Guy and hisfriends on Tripoli Street, in order to stop him from firing thatlethal round, the answer is yes. And there it is – the systemand the structure and the indoctrination of the war machinethat drives people to kill in the defence of the man next tohim, not his country and not his ideology but in defence ofhis friend.Pacifism is a privilege of the peaceful and empowered – insidethe home, in our communities and on a global scale. For themost part I own those privileges but when I don’t it’s harderto be a pacifist.I’ve tried to tell these stories in professional discussions aboutviolence so many times but no one wants to hear them.Copyright Credit: Anastasia Taylor-Lind, from \"Stories No One Wants to Hear [v.-vii.]\" from One Language.  Copyright © 2022 by Anastasia Taylor-Lind.  Reprinted by permission of The Poetry Business.Source: One Language (The Poetry Business, 2022)",
         "https://www.poetryfoundation.org/poems/1580615/stories-no-one-wants-to-hear-v-xii"
        ],
        [
         "42",
         "poetry-magazineLana Del Rey on Country Roads",
         "By Tamsin Moore",
         "Long, empty roads stretching as long as the gas tank is willing—\nSixty-seven dollars left from last …",
         "Long, empty roads stretching as long as the gas tank is willing—\nSixty-seven dollars left from last summer’s job, but that doesn’t matter with the windows rolled down, her hair blowing back; she doesn’t push it behind her ear, her hand is busy holding mine.\n\nLana Del Rey on the radio, turned as high as our consciences allow—\n\nGoing fifty on the small-town back roads, but who will care? There’s no one but cows to witness our transgressions. Nothing but anthropomorphism to signal our sin.\n\nAt home there’s college and work and decisions to be made—\nHere there’s only the sunset over dry, empty cornfields and the rhythm of Tulsa Jesus Freak playing on repeat until I know it by heart, though I haven’t heard it before today.\n\nOur own freedom thrums through these bony teenage bodies, and it’s clear we’ve only begun to explore. There’s so much left to learn, and so much time to learn it.\n\nI turn Lana up a few degrees more\nand step on the gas.Source: Poetry (January/February 2025)",
         "https://www.poetryfoundation.org/poetrymagazine/poems/1639226/lana-del-rey-on-country-roads"
        ],
        [
         "43",
         "The Difference Between a Dog and a Biscuit Tin",
         "By Karl Knights",
         "It’s Boxing Day and I’m nearly ten and a half.I got the camouflaged Action Man for Christmas.I told …",
         "It’s Boxing Day and I’m nearly ten and a half.I got the camouflaged Action Man for Christmas.I told Mum I wanted to open it on my own,but my special scissors won’t cut the plastic.Just as I start to stick my tongue out and sweat,Mum calls my name from the front room.I shuffle down the stairs on my bum.Mum says I should use the stairlift.She taps me on the shoulder and says‘Look at the telly! This film’s got a boy like you.See? He even flaps his hands like you. He’s called Kyle.’On the screen a man and a woman standin a kitchen that looks bigger than ours.Her scarf is the same colour as my blue badge.The man rubs his face with his big hands and saysWhatever happened Nic, whatever happened to us?Kyle happened. Mum tells me to pay attentionbut the screen’s too bright. The man is now standingin front of a house that posh people have.He shouts too loudly, For God’s sake it’s autism,he doesn’t know what love is.He can’t tell the differencebetween a dog and a biscuit tin.Mum pulls my hands from my earsand points toward the person she thinks I am.Copyright Credit: Karl Knights, \"The Difference Between a Dog and a Biscuit Tin\" from Kin. Copyright © 2022 by Karl Knights.  Reprinted by permission of The Poetry Business.Source: Kin (The Poetry Business, 2022)",
         "https://www.poetryfoundation.org/poems/1580556/the-difference-between-a-dog-and-a-biscuit-tin"
        ],
        [
         "44",
         "Dear John Wayne",
         "By Louise Erdrich",
         "August and the drive-in picture is packed.We lounge on the hood of the Pontiacsurrounded by the slow…",
         "August and the drive-in picture is packed.We lounge on the hood of the Pontiacsurrounded by the slow-burning spirals they sellat the window, to vanquish the hordes of mosquitoes.Nothing works. They break through the smoke screen for blood. Always the lookout spots the Indians first,spread north to south, barring progress.The Sioux or some other Plains bunchin spectacular columns, ICBM missiles,feathers bristling in the meaningful sunset. The drum breaks. There will be no parlance.Only the arrows whining, a death-cloud of nervesswarming down on the settlerswho die beautifully, tumbling like dust weedsinto the history that brought us all heretogether: this wide screen beneath the sign of the bear. The sky fills, acres of blue squint and eyethat the crowd cheers. His face moves over us,a thick cloud of vengeance, pittedlike the land that was once flesh. Each rut,each scar makes a promise: It isnot over, this fight, not as long as you resist. Everything we see belongs to us. A few laughing Indians fall over the hoodslipping in the hot spilled butter.The eye sees a lot, John, but the heart is so blind.Death makes us owners of nothing.He smiles, a horizon of teeththe credits reel over, and then the white fields again blowing in the true-to-life dark.The dark films over everything.We get into the carscratching our mosquito bites, speechless and smallas people are when the movie is done.We are back in our skins. How can we help but keep hearing his voice,the flip side of the sound track, still playing:Come on, boys, we got themwhere we want them, drunk, running.They'll give us what we want, what we need.Even his disease was the idea of taking everything.Those cells, burning, doubling, splitting out of their skins.Copyright Credit: Louise Erdrich, \"Dear John Wayne\" from Original Fire: New & Selected Poems.  Copyright © 2003 by Louise Erdrich.  Reprinted by permission of HarperCollins Publishers Inc.",
         "https://www.poetryfoundation.org/poems/1585321/dear-john-wayne"
        ],
        [
         "45",
         "Double Feature",
         "By Robert Hayden",
         "At Dunbar, Castle or Arcadewe rode with the exotic sheikthrough deserts of erotic flowers;held in the…",
         "At Dunbar, Castle or Arcadewe rode with the exotic sheikthrough deserts of erotic flowers;held in the siren madonna's armswere safe from the bill-collector's power.Forgave the rats and roaches wecould not defeat, beguiled by jazzbostrutting of a mouse. And whenthe Swell Guy, roused to noblest wrathshot down all those weakéd men,Oh how we cheered to see the good we weredestroy the bad we'd never be.What mattered then the false, the trueat Dunbar, Castle or Arcade,where we were other for an hour or two?Copyright Credit: Robert Hayden, \"Double Feature\" from Collected Poems of Robert Hayden.  Copyright © 2013 by Robert Hayden.  Reprinted by permission of W. W. Norton & Company, Inc..Source: Collected Poems of Robert Hayden. (W. W. Norton & Company, Inc., 2013)",
         "https://www.poetryfoundation.org/poems/1585006/double-feature"
        ],
        [
         "46",
         "How to Wheel",
         "By Karl Knights",
         "The zoo is tough terrain; hilly.I wheel as fast as I can —then Mum shouts ‘Keep up!’I stop. ‘Hand me…",
         "The zoo is tough terrain; hilly.I wheel as fast as I can —then Mum shouts ‘Keep up!’I stop. ‘Hand me my crutches.’I shakily get up; tear off my splints’velcro straps, and put them on her.I sit her in the chair. ‘You have a go.’At first, she spins in circles.‘No,’ I say. ‘Use both arms in unison.’She still veers away, zigzagging, sweating now.People start to stare. She blushes,keeps her head down. After ten minutesshe’s heaving, shirt drenched.I swing over to her.Copyright Credit: Karl Knights, \"How to Wheel\" from Kin.  Copyright © 2022 by Karl Knights.  Reprinted by permission of The Poetry Business.Source: Kin (The Poetry Business, 2022)",
         "https://www.poetryfoundation.org/poems/1546179/how-to-wheel"
        ],
        [
         "47",
         "Night",
         "By Petr Hruška",
         "  True darkness is in a child’s bedroom. Deep black.Elsewhere there’s just a meager, watery twilight…",
         "  True darkness is in a child’s bedroom. Deep black.Elsewhere there’s just a meager, watery twilight, in whicheverything, in the end, acquires a humiliating distinctness.Copyright Credit: Petr Hruška, \"Night\" from Everything Indicates: Selected Poems, translated by Jonathan Bolton. Copyright © 2023 by Petr Hruška.  Reprinted by permission of Blue Diode Press.Source: Everything Indicates: Selected Poems, translated by Jonathan Bolton. (Blue Diode Press, 2023)",
         "https://www.poetryfoundation.org/poems/1608350/night"
        ],
        [
         "48",
         "The World Grows Blackthorn Walls",
         "By Sholeh Wolpé",
         "Tall, stiff and spiny.Try to make it to the other sideand risk savage thorns.We who left home in our…",
         "Tall, stiff and spiny.Try to make it to the other sideand risk savage thorns.We who left home in our teens,children who crossed boundaries and were tornby its thousand serrated tongues,we who bear scars that bloom and bloombeneath healed skins,      who have we become?I ask myself:     Is home my ghost?Does it wear my underwearfolded neatly in the antique chestof drawers I bought twenty years ago,nest inside my blouse that hangsfrom one metal hanger I cannot discard?Is it lost between these lines of booksshelved alphabetical in a languageI was not born to? Or here on the lipof this chipped cupmy last lover left behind?I carry seeds in my mouth. Plantturmeric, cardamom, and tinyaromatic cucumbers in this garden.Water them with rain I wringfrom my grandmother’s songs.They will grow, I know, againstthese blackthorn walls.They can push through anything, uncut.I left home at thirteen.I hadn’t lived enough to know hownot to love.Home was the Caspian Sea, the busy bazaars,the aroma of kebab and rice, Fridaylunches, picnics by mountain streams.        I never meant to stay away.They said come backand you will die.Exile is a suitcase with a broken strap.I fill up a hundred notebooks with scribbles,throw them into fire and begin again,this time tattooing the words on my forehead,this time writing only not to forget.Complacency is catching like the common cold.I swim upstream to lay my purple eggs.They say draw sustenance from this land,but look how my fruits hang in spiralsand smell of old notebooks and lace.What is a transplanted treebut a time beingwho has adapted to adoption?Spirits urge and spirits go,they weep and wail at the door of the templewhere I sit at the edge of an abyss.Perhaps it’s only in exile that spirits arrive.But even this is an illusion.Copyright Credit: Sholeh Wolpe, \"The World Grows Blackthorn Walls\" from Abacus of Loss.  Copyright © 2022 by Sholeh Wolpe.  Reprinted by permission of University of Arkansas Press.Source:  Abacus of Loss (University of Arkansas Press, 2022)",
         "https://www.poetryfoundation.org/poems/1607950/the-world-grows-blackthorn-walls"
        ],
        [
         "49",
         "Cyrus & the Snakes",
         "By Ada Limón",
         "My brother holds a snake by its head. The whole            length of the snake is the length of my brother’s body. The snake’s head            is held safely, securely, as if my brother is showing him something in the distant high grass.            I...",
         "My brother holds a snake by its head. The whole\n             length of the snake is the length\n  \n of my brother’s body. The snake’s head\n             is held safely, securely, as if my brother\n  \n is showing him something in the distant high grass.\n             I don’t know why he wants to hold them,\n  \n their strong bodies wrapping themselves around\n             the warmth of his arm. Constricting and made\n  \n of circles and momentum; slippery coolness smooth\n             against the ground. Still, this image of him,\n  \n holding a snake as it snakes as snakes\n             do, both a noun and verb and a story\n  \n that doesn’t end well. Once, we stole an egg\n             from the backyard chicken coop\n  \n and cracked it just to see what was inside: a whole\n             unhatched chick. Where we\n  \n expected yolk and mucus was an unfeathered\n             and unfurled sweetness. We stared at the thing,\n  \n dead now and unshelled by curiosity and terrible youth.\n             My brother pretended not to care so much,\n  \n while I cried, though only a little. Still, we buried it\n             in the brush, by the creeping thistle that tore up\n  \n our arms with their speared leaves, barbed\n             at the ends like weapons stuck in the rattlesnake grass.\n  \n But I knew, I knew that he’d cry if he was alone,\n             if he wasn’t a boy in the summer heat being a boy\n  \n in the summer heat. Years later, back from Mexico\n             or South America, he’d admit he was tired\n  \n of history, of always discovering the ruin by ruining\n             it, wrecking a forest for a temple, a temple\n  \n that should be simply left a temple. He wanted it\n             all to stay as it was, even if it went undiscovered.\n  \n I want to honor a man who wants to hold a wild thing,\n             only for a second, long enough to admire it fully,\n  \n and then wants to watch it safely return to its life,\n              bends to be sure the grass closes up behind it.Copyright Credit: Ada Limon, \"Cyrus and the Snakes\" from The Hurting Kind.  Copyright © 2022 by Ada Limon.  Reprinted by permission of Milkweed Editions.",
         "https://www.poetryfoundation.org/poems/162176/cyrus-the-snakes"
        ]
       ],
       "shape": {
        "columns": 5,
        "rows": 120
       }
      },
      "text/html": [
       "<div>\n",
       "<style scoped>\n",
       "    .dataframe tbody tr th:only-of-type {\n",
       "        vertical-align: middle;\n",
       "    }\n",
       "\n",
       "    .dataframe tbody tr th {\n",
       "        vertical-align: top;\n",
       "    }\n",
       "\n",
       "    .dataframe thead th {\n",
       "        text-align: right;\n",
       "    }\n",
       "</style>\n",
       "<table border=\"1\" class=\"dataframe\">\n",
       "  <thead>\n",
       "    <tr style=\"text-align: right;\">\n",
       "      <th></th>\n",
       "      <th>title</th>\n",
       "      <th>author</th>\n",
       "      <th>summary</th>\n",
       "      <th>poem</th>\n",
       "      <th>link</th>\n",
       "    </tr>\n",
       "  </thead>\n",
       "  <tbody>\n",
       "    <tr>\n",
       "      <th>0</th>\n",
       "      <td>Winter Journal: Threshed Blue, Cardings, Dim T...</td>\n",
       "      <td>By Emily Wilson</td>\n",
       "      <td>stripped batting of cloudglimpsed ligamentsdus...</td>\n",
       "      <td>stripped batting of cloud\\n glimpsed ligaments...</td>\n",
       "      <td>https://www.poetryfoundation.org/poems/52227/w...</td>\n",
       "    </tr>\n",
       "    <tr>\n",
       "      <th>1</th>\n",
       "      <td>To a Wreath of Snow</td>\n",
       "      <td>By Emily Brontë</td>\n",
       "      <td>O transient voyager of heaven!⁠ ⁠ ⁠ O silent s...</td>\n",
       "      <td>O transient voyager of heaven!\\n ⁠ ⁠ ⁠ O silen...</td>\n",
       "      <td>https://www.poetryfoundation.org/poems/161908/...</td>\n",
       "    </tr>\n",
       "    <tr>\n",
       "      <th>2</th>\n",
       "      <td>Preludes</td>\n",
       "      <td>By T. S. Eliot</td>\n",
       "      <td>IThe winter evening settles downWith smell of ...</td>\n",
       "      <td>I\\n\\n The winter evening settles down\\n With s...</td>\n",
       "      <td>https://www.poetryfoundation.org/poems/44214/p...</td>\n",
       "    </tr>\n",
       "    <tr>\n",
       "      <th>3</th>\n",
       "      <td>Growing Season</td>\n",
       "      <td>By Angela Voras-Hills</td>\n",
       "      <td>On the bike path, a bunny's body and bloodwher...</td>\n",
       "      <td>On the bike path, a bunny's body and blood\\n w...</td>\n",
       "      <td>https://www.poetryfoundation.org/poems/154760/...</td>\n",
       "    </tr>\n",
       "    <tr>\n",
       "      <th>4</th>\n",
       "      <td>The Snow Arrives After Long Silence</td>\n",
       "      <td>By Nancy Willard</td>\n",
       "      <td>The snow arrives after long silencefrom its hi...</td>\n",
       "      <td>The snow arrives after long silence\\n from its...</td>\n",
       "      <td>https://www.poetryfoundation.org/poems/154170/...</td>\n",
       "    </tr>\n",
       "    <tr>\n",
       "      <th>...</th>\n",
       "      <td>...</td>\n",
       "      <td>...</td>\n",
       "      <td>...</td>\n",
       "      <td>...</td>\n",
       "      <td>...</td>\n",
       "    </tr>\n",
       "    <tr>\n",
       "      <th>115</th>\n",
       "      <td>Coming Undone</td>\n",
       "      <td>By Jared Marcel Pollen</td>\n",
       "      <td>On Context Collapse, Ryan Ruby’s vertiginous s...</td>\n",
       "      <td>None</td>\n",
       "      <td>https://www.poetryfoundation.org/articles/1625...</td>\n",
       "    </tr>\n",
       "    <tr>\n",
       "      <th>116</th>\n",
       "      <td>Shock and Ore</td>\n",
       "      <td>By Alexander Wells</td>\n",
       "      <td>The German poet Lutz Seiler has spent his care...</td>\n",
       "      <td>None</td>\n",
       "      <td>https://www.poetryfoundation.org/articles/1623...</td>\n",
       "    </tr>\n",
       "    <tr>\n",
       "      <th>117</th>\n",
       "      <td>[       ] noise</td>\n",
       "      <td>By Victoria Adukwei Bulley</td>\n",
       "      <td>&amp; even when we said we were alone there was [ ...</td>\n",
       "      <td>&amp; even when we said we were alone there was [ ...</td>\n",
       "      <td>https://www.poetryfoundation.org/poems/162164/...</td>\n",
       "    </tr>\n",
       "    <tr>\n",
       "      <th>118</th>\n",
       "      <td>The Caliban of Old Blighty</td>\n",
       "      <td>By Declan Ryan</td>\n",
       "      <td>W.H. Auden's conflicted love of England is fro...</td>\n",
       "      <td>None</td>\n",
       "      <td>https://www.poetryfoundation.org/articles/1621...</td>\n",
       "    </tr>\n",
       "    <tr>\n",
       "      <th>119</th>\n",
       "      <td>Misclassified</td>\n",
       "      <td>None</td>\n",
       "      <td>Tyler Mills on the truth, how to love a cockro...</td>\n",
       "      <td>None</td>\n",
       "      <td>https://www.poetryfoundation.org/audio/1620279...</td>\n",
       "    </tr>\n",
       "  </tbody>\n",
       "</table>\n",
       "<p>120 rows × 5 columns</p>\n",
       "</div>"
      ],
      "text/plain": [
       "                                                 title  \\\n",
       "0    Winter Journal: Threshed Blue, Cardings, Dim T...   \n",
       "1                                  To a Wreath of Snow   \n",
       "2                                             Preludes   \n",
       "3                                       Growing Season   \n",
       "4                  The Snow Arrives After Long Silence   \n",
       "..                                                 ...   \n",
       "115                                      Coming Undone   \n",
       "116                                      Shock and Ore   \n",
       "117                                    [       ] noise   \n",
       "118                        The Caliban of Old Blighty    \n",
       "119                                      Misclassified   \n",
       "\n",
       "                         author  \\\n",
       "0               By Emily Wilson   \n",
       "1               By Emily Brontë   \n",
       "2                By T. S. Eliot   \n",
       "3         By Angela Voras-Hills   \n",
       "4              By Nancy Willard   \n",
       "..                          ...   \n",
       "115      By Jared Marcel Pollen   \n",
       "116          By Alexander Wells   \n",
       "117  By Victoria Adukwei Bulley   \n",
       "118              By Declan Ryan   \n",
       "119                        None   \n",
       "\n",
       "                                               summary  \\\n",
       "0    stripped batting of cloudglimpsed ligamentsdus...   \n",
       "1    O transient voyager of heaven!⁠ ⁠ ⁠ O silent s...   \n",
       "2    IThe winter evening settles downWith smell of ...   \n",
       "3    On the bike path, a bunny's body and bloodwher...   \n",
       "4    The snow arrives after long silencefrom its hi...   \n",
       "..                                                 ...   \n",
       "115  On Context Collapse, Ryan Ruby’s vertiginous s...   \n",
       "116  The German poet Lutz Seiler has spent his care...   \n",
       "117  & even when we said we were alone there was [ ...   \n",
       "118  W.H. Auden's conflicted love of England is fro...   \n",
       "119  Tyler Mills on the truth, how to love a cockro...   \n",
       "\n",
       "                                                  poem  \\\n",
       "0    stripped batting of cloud\\n glimpsed ligaments...   \n",
       "1    O transient voyager of heaven!\\n ⁠ ⁠ ⁠ O silen...   \n",
       "2    I\\n\\n The winter evening settles down\\n With s...   \n",
       "3    On the bike path, a bunny's body and blood\\n w...   \n",
       "4    The snow arrives after long silence\\n from its...   \n",
       "..                                                 ...   \n",
       "115                                               None   \n",
       "116                                               None   \n",
       "117  & even when we said we were alone there was [ ...   \n",
       "118                                               None   \n",
       "119                                               None   \n",
       "\n",
       "                                                  link  \n",
       "0    https://www.poetryfoundation.org/poems/52227/w...  \n",
       "1    https://www.poetryfoundation.org/poems/161908/...  \n",
       "2    https://www.poetryfoundation.org/poems/44214/p...  \n",
       "3    https://www.poetryfoundation.org/poems/154760/...  \n",
       "4    https://www.poetryfoundation.org/poems/154170/...  \n",
       "..                                                 ...  \n",
       "115  https://www.poetryfoundation.org/articles/1625...  \n",
       "116  https://www.poetryfoundation.org/articles/1623...  \n",
       "117  https://www.poetryfoundation.org/poems/162164/...  \n",
       "118  https://www.poetryfoundation.org/articles/1621...  \n",
       "119  https://www.poetryfoundation.org/audio/1620279...  \n",
       "\n",
       "[120 rows x 5 columns]"
      ]
     },
     "execution_count": 28,
     "metadata": {},
     "output_type": "execute_result"
    }
   ],
   "source": [
    "scrape_poems()"
   ]
  },
  {
   "cell_type": "code",
   "execution_count": 29,
   "metadata": {},
   "outputs": [],
   "source": [
    "df = scrape_poems()"
   ]
  },
  {
   "cell_type": "code",
   "execution_count": 30,
   "metadata": {},
   "outputs": [
    {
     "data": {
      "text/plain": [
       "(120, 5)"
      ]
     },
     "execution_count": 30,
     "metadata": {},
     "output_type": "execute_result"
    }
   ],
   "source": [
    "df.shape"
   ]
  },
  {
   "cell_type": "code",
   "execution_count": 31,
   "metadata": {},
   "outputs": [
    {
     "data": {
      "application/vnd.microsoft.datawrangler.viewer.v0+json": {
       "columns": [
        {
         "name": "index",
         "rawType": "int64",
         "type": "integer"
        },
        {
         "name": "title",
         "rawType": "object",
         "type": "string"
        },
        {
         "name": "author",
         "rawType": "object",
         "type": "string"
        },
        {
         "name": "summary",
         "rawType": "object",
         "type": "string"
        },
        {
         "name": "poem",
         "rawType": "object",
         "type": "string"
        },
        {
         "name": "link",
         "rawType": "object",
         "type": "string"
        }
       ],
       "conversionMethod": "pd.DataFrame",
       "ref": "b811bfa3-4dce-4208-a244-422936746823",
       "rows": [
        [
         "0",
         "Winter Journal: Threshed Blue, Cardings, Dim Tonsils",
         "By Emily Wilson",
         "stripped batting of cloudglimpsed ligamentsdusk coming up underlithographic, nib-hatchings       instruments click       the fine-sprung locust       replicate dinge along hill-lines       tailings of umber, the rust smudgeThere is still that hemmed ocean of oaks       the various reds, the somehow       silver cast over the...",
         "stripped batting of cloud\n glimpsed ligaments\n dusk coming up under\n lithographic, nib-hatchings\n        instruments click\n        the fine-sprung locust\n        replicate dinge along hill-lines\n        tailings of umber, the rust smudge\n There is still that hemmed ocean of oaks\n        the various reds, the somehow\n        silver cast over the brown-gold\n        the under-brushed shadows\n How can there be more of their dispensing\n        into air?\n The night-openings of the trees\n The thousand clefts into\n Their corridors shiver and merge and piece apart\n There is no one beside what was once river\n Only the carbons incoming\n        accreting in leaves\n Love of old oaks unencumbering\n Root-beauties brought through\n crude sieves of bare trees\n the few fastened leaves\n Those pods are like tongues or like sickles\n The blades have been pulled from their sheaths\n The backs of the clouds now upturned\n They herd from pink seas\n They make their untouchable stream\n        through regions of steep emptiness\n        against which the trees have their gestures\n Drop down, drop down toward me\n your little sleek scars\n Make your bed in rough cedars\n clangor of darks numbering in\n clusters of trunks and spoked lungs\n the thistles that work at the gumsCopyright Credit: Emily Wilson, \"Winter Journal: Threshed Blue, Cardings, Dim Tonsils\" from The Keep. Copyright © 2001 by Emily Wilson.  Reprinted by permission of University of Iowa Press.Source: The Keep (University of Iowa Press)",
         "https://www.poetryfoundation.org/poems/52227/winter-journal-threshed-blue-cardings-dim-tonsils"
        ],
        [
         "1",
         "To a Wreath of Snow",
         "By Emily Brontë",
         "O transient voyager of heaven!⁠ ⁠ ⁠ O silent sign of winter skies!What adverse wind thy sail has driven⁠ ⁠ ⁠ To dungeons where a prisoner lies?Methinks the hands that shut the sun⁠ ⁠ ⁠ ⁠So sternly from this morning's browMight still their rebel task have done⁠⁠ ⁠ ⁠ And checked a thing...",
         "O transient voyager of heaven!\n ⁠ ⁠ ⁠ O silent sign of winter skies!\n What adverse wind thy sail has driven\n ⁠ ⁠ ⁠ To dungeons where a prisoner lies?\n\n Methinks the hands that shut the sun\n ⁠ ⁠ ⁠ ⁠So sternly from this morning's brow\n Might still their rebel task have done\n ⁠⁠ ⁠ ⁠ And checked a thing so frail as thou.\n\n They would have done it had they known\n ⁠ ⁠ ⁠ ⁠The talisman that dwelt in thee,\n For all the suns that ever shone\n ⁠ ⁠ ⁠ ⁠Have never been so kind to me!\n\n For many a week, and many a day\n ⁠⁠ ⁠ ⁠ My heart was weighed with sinking gloom\n When morning rose in mourning grey\n ⁠⁠ ⁠ ⁠ And faintly lit my prison room\n\n But angel like, when I awoke,\n ⁠⁠ ⁠ ⁠ Thy silvery form, so soft and fair\n Shining through darkness, sweetly spoke\n ⁠⁠ ⁠ ⁠ Of cloudy skies and mountains bare;\n\n The dearest to a mountaineer\n ⁠⁠ ⁠ ⁠ Who, all life long has loved the snow\n That crowned his native summits drear,\n ⁠ ⁠ ⁠ ⁠Better, than greenest plains below.\n\n And voiceless, soulless, messenger\n ⁠ ⁠ ⁠ ⁠Thy presence waked a thrilling tone\n That comforts me while thou art here\n ⁠ ⁠ ⁠ ⁠And will sustain when thou art gone",
         "https://www.poetryfoundation.org/poems/161908/to-a-wreath-of-snow"
        ],
        [
         "2",
         "Preludes",
         "By T. S. Eliot",
         "IThe winter evening settles downWith smell of steaks in passageways.Six o’clock.The burnt-out ends of smoky days.And now a gusty shower wrapsThe grimy scrapsOf withered leaves about your feetAnd newspapers from vacant lots;The showers beatOn broken blinds and chimney-pots,And at the...",
         "I\n\n The winter evening settles down\n With smell of steaks in passageways.\n Six o’clock.\n The burnt-out ends of smoky days.\n And now a gusty shower wraps\n The grimy scraps\n Of withered leaves about your feet\n And newspapers from vacant lots;\n The showers beat\n On broken blinds and chimney-pots,\n And at the corner of the street\n A lonely cab-horse steams and stamps.\n\n And then the lighting of the lamps.\n\n\n\n\n II\n\n The morning comes to consciousness\n Of faint stale smells of beer\n From the sawdust-trampled street\n With all its muddy feet that press\n To early coffee-stands.\n\n With the other masquerades\n That time resumes,\n One thinks of all the hands\n That are raising dingy shades\n In a thousand furnished rooms.\n\n\n\n\n III\n\n You tossed a blanket from the bed,\n You lay upon your back, and waited;\n You dozed, and watched the night revealing\n The thousand sordid images\n Of which your soul was constituted;\n They flickered against the ceiling.\n And when all the world came back\n And the light crept up between the shutters\n And you heard the sparrows in the gutters,\n You had such a vision of the street\n As the street hardly understands;\n Sitting along the bed’s edge, where\n You curled the papers from your hair,\n Or clasped the yellow soles of feet\n In the palms of both soiled hands.\n\n\n\n\n IV\n\n His soul stretched tight across the skies\n That fade behind a city block,\n Or trampled by insistent feet\n At four and five and six o’clock;\n And short square fingers stuffing pipes,\n And evening newspapers, and eyes\n Assured of certain certainties,\n The conscience of a blackened street\n Impatient to assume the world.\n\n I am moved by fancies that are curled\n Around these images, and cling:\n The notion of some infinitely gentle\n Infinitely suffering thing.\n\n Wipe your hand across your mouth, and laugh;\n The worlds revolve like ancient women\n Gathering fuel in vacant lots.Copyright Credit: T. S. Eliot, \"Preludes\" from Collected Poems: 1909-1962.  Copyright © 2020 by T. S. Eliot.  Reprinted by permission of Faber and Faber, Ltd..Source: Collected Poems: 1909-1962  (Faber and Faber, Ltd., 2020)",
         "https://www.poetryfoundation.org/poems/44214/preludes-56d22338dc954"
        ],
        [
         "3",
         "Growing Season",
         "By Angela Voras-Hills",
         "On the bike path, a bunny's body and bloodwhere the head should be. Somethinghas torn off its foot, something has eatenits heart, its entrails frozen in snow.The plow growls past me. This morningI left eggs behind the couch to incubate....",
         "On the bike path, a bunny's body and blood\n where the head should be. Something\n\n has torn off its foot, something has eaten\n its heart, its entrails frozen in snow.\n\n The plow growls past me. This morning\n I left eggs behind the couch to incubate. I spent\n\n last night walking until all the blood left my feet,\n and my thighs throbbed. The snow\n\n refuses to melt. I refuse to wear\n a sweater set or heels. Instead of TV news,\n\n I watch the sky. When it darkens,\n my ribs swell, and I know it is not time\n\n to plant. I wait for the beginning\n or the end—depending on the day. Soon,\n\n there will be enough water for all of us\n to need to build a boat: the sun falls\n\n into the street, blinding the drivers heading\n north, warming the snow from inside.Copyright Credit: Angela Voras-Hills, \"Growing Season\" from Louder Birds.  Copyright © 2020 by Angela Voras-Hills.  Reprinted by permission of Pleiades Press. Source: Louder Birds (Pleiades Press, 2020)",
         "https://www.poetryfoundation.org/poems/154760/growing-season"
        ],
        [
         "4",
         "The Snow Arrives After Long Silence",
         "By Nancy Willard",
         "The snow arrives after long silencefrom its high home where nothing leavestracks or strains or keeps time.The sky it fell from, pale as oatmeal,bears up like sheep before shearing.The cat at my window watchesamazed. So many feathers and no bird!All...",
         "The snow arrives after long silence\n from its high home where nothing leaves\n tracks or strains or keeps time.\n The sky it fell from, pale as oatmeal,\n bears up like sheep before shearing.\n\nThe cat at my window watches\n amazed. So many feathers and no bird!\n All day the snow sets its table\n with clean linen, putting its house\n in order. The hungry deer walk\n\non the risen loaves of snow.\n You can follow the broken hearts\n their hooves punch in its crust.\n Night after night the big plows rumble\n and bale it like dirty laundry\n\nand haul it to the Hudson.\n Now I scan the sky for snow,\n and the cool cheek it offers me,\n and its body, thinned into petals,\n and the still caves where it sleeps.\n  Copyright Credit: Nancy Willard, “The Snow Arrives After Long Silence” from In the Salt Marsh (New York: Alfred A. Knopf, 2004)",
         "https://www.poetryfoundation.org/poems/154170/the-snow-arrives-after-long-silence"
        ]
       ],
       "shape": {
        "columns": 5,
        "rows": 5
       }
      },
      "text/html": [
       "<div>\n",
       "<style scoped>\n",
       "    .dataframe tbody tr th:only-of-type {\n",
       "        vertical-align: middle;\n",
       "    }\n",
       "\n",
       "    .dataframe tbody tr th {\n",
       "        vertical-align: top;\n",
       "    }\n",
       "\n",
       "    .dataframe thead th {\n",
       "        text-align: right;\n",
       "    }\n",
       "</style>\n",
       "<table border=\"1\" class=\"dataframe\">\n",
       "  <thead>\n",
       "    <tr style=\"text-align: right;\">\n",
       "      <th></th>\n",
       "      <th>title</th>\n",
       "      <th>author</th>\n",
       "      <th>summary</th>\n",
       "      <th>poem</th>\n",
       "      <th>link</th>\n",
       "    </tr>\n",
       "  </thead>\n",
       "  <tbody>\n",
       "    <tr>\n",
       "      <th>0</th>\n",
       "      <td>Winter Journal: Threshed Blue, Cardings, Dim T...</td>\n",
       "      <td>By Emily Wilson</td>\n",
       "      <td>stripped batting of cloudglimpsed ligamentsdus...</td>\n",
       "      <td>stripped batting of cloud\\n glimpsed ligaments...</td>\n",
       "      <td>https://www.poetryfoundation.org/poems/52227/w...</td>\n",
       "    </tr>\n",
       "    <tr>\n",
       "      <th>1</th>\n",
       "      <td>To a Wreath of Snow</td>\n",
       "      <td>By Emily Brontë</td>\n",
       "      <td>O transient voyager of heaven!⁠ ⁠ ⁠ O silent s...</td>\n",
       "      <td>O transient voyager of heaven!\\n ⁠ ⁠ ⁠ O silen...</td>\n",
       "      <td>https://www.poetryfoundation.org/poems/161908/...</td>\n",
       "    </tr>\n",
       "    <tr>\n",
       "      <th>2</th>\n",
       "      <td>Preludes</td>\n",
       "      <td>By T. S. Eliot</td>\n",
       "      <td>IThe winter evening settles downWith smell of ...</td>\n",
       "      <td>I\\n\\n The winter evening settles down\\n With s...</td>\n",
       "      <td>https://www.poetryfoundation.org/poems/44214/p...</td>\n",
       "    </tr>\n",
       "    <tr>\n",
       "      <th>3</th>\n",
       "      <td>Growing Season</td>\n",
       "      <td>By Angela Voras-Hills</td>\n",
       "      <td>On the bike path, a bunny's body and bloodwher...</td>\n",
       "      <td>On the bike path, a bunny's body and blood\\n w...</td>\n",
       "      <td>https://www.poetryfoundation.org/poems/154760/...</td>\n",
       "    </tr>\n",
       "    <tr>\n",
       "      <th>4</th>\n",
       "      <td>The Snow Arrives After Long Silence</td>\n",
       "      <td>By Nancy Willard</td>\n",
       "      <td>The snow arrives after long silencefrom its hi...</td>\n",
       "      <td>The snow arrives after long silence\\n from its...</td>\n",
       "      <td>https://www.poetryfoundation.org/poems/154170/...</td>\n",
       "    </tr>\n",
       "  </tbody>\n",
       "</table>\n",
       "</div>"
      ],
      "text/plain": [
       "                                               title                 author  \\\n",
       "0  Winter Journal: Threshed Blue, Cardings, Dim T...        By Emily Wilson   \n",
       "1                                To a Wreath of Snow        By Emily Brontë   \n",
       "2                                           Preludes         By T. S. Eliot   \n",
       "3                                     Growing Season  By Angela Voras-Hills   \n",
       "4                The Snow Arrives After Long Silence       By Nancy Willard   \n",
       "\n",
       "                                             summary  \\\n",
       "0  stripped batting of cloudglimpsed ligamentsdus...   \n",
       "1  O transient voyager of heaven!⁠ ⁠ ⁠ O silent s...   \n",
       "2  IThe winter evening settles downWith smell of ...   \n",
       "3  On the bike path, a bunny's body and bloodwher...   \n",
       "4  The snow arrives after long silencefrom its hi...   \n",
       "\n",
       "                                                poem  \\\n",
       "0  stripped batting of cloud\\n glimpsed ligaments...   \n",
       "1  O transient voyager of heaven!\\n ⁠ ⁠ ⁠ O silen...   \n",
       "2  I\\n\\n The winter evening settles down\\n With s...   \n",
       "3  On the bike path, a bunny's body and blood\\n w...   \n",
       "4  The snow arrives after long silence\\n from its...   \n",
       "\n",
       "                                                link  \n",
       "0  https://www.poetryfoundation.org/poems/52227/w...  \n",
       "1  https://www.poetryfoundation.org/poems/161908/...  \n",
       "2  https://www.poetryfoundation.org/poems/44214/p...  \n",
       "3  https://www.poetryfoundation.org/poems/154760/...  \n",
       "4  https://www.poetryfoundation.org/poems/154170/...  "
      ]
     },
     "execution_count": 31,
     "metadata": {},
     "output_type": "execute_result"
    }
   ],
   "source": [
    "df.head()"
   ]
  },
  {
   "cell_type": "code",
   "execution_count": 32,
   "metadata": {},
   "outputs": [
    {
     "name": "stdout",
     "output_type": "stream",
     "text": [
      "Title: poetry-magazineFebruary & my love is in another state\n",
      "\n",
      "Author: By José Olivarez\n",
      "\n",
      "Summary: so when i walk down the street, i hold handswith the wind. there’s a chimney coughingup ahead & a sky so honey, i could almost taste it.a cat struts away from me & two yellow eyesbecome four: just like that,i’m...\n",
      "\n",
      "Poem: so when i walk down the street, i hold hands\n",
      " with the wind. there’s a chimney coughing\n",
      " up ahead & a sky so honey, i could almost taste it.\n",
      " a cat struts away from me & two yellow eyes\n",
      "\n",
      " become four: just like that,\n",
      " i’m the loneliest creature on this block.\n",
      " soon the streetlights will come alive\n",
      " & television sets will light up with blues.\n",
      "\n",
      " stay with me. while the sky is still golden,\n",
      " hold the ladder so i can climb, & from\n",
      " the highest rung, i can scrape away a drizzle\n",
      " of light to wear around my neck. alone\n",
      "\n",
      " is the star i follow. in love & in solitude:\n",
      " alone is the home with the warmest glow.Source: Poetry (December 2019)\n",
      "\n",
      "Link: https://www.poetryfoundation.org/poetrymagazine/poems/151518/february-my-love-is-in-another-state\n",
      "\n"
     ]
    }
   ],
   "source": [
    "row = df.iloc[10]\n",
    "print(f\"Title: {row['title']}\\n\")\n",
    "print(f\"Author: {row['author']}\\n\")\n",
    "print(f\"Summary: {row['summary']}\\n\")\n",
    "print(f\"Poem: {row['poem']}\\n\")\n",
    "print(f\"Link: {row['link']}\\n\")"
   ]
  },
  {
   "cell_type": "code",
   "execution_count": 33,
   "metadata": {},
   "outputs": [
    {
     "data": {
      "text/plain": [
       "'poetry-magazineFebruary & my love is in another state'"
      ]
     },
     "execution_count": 33,
     "metadata": {},
     "output_type": "execute_result"
    }
   ],
   "source": [
    "df['title'][10]"
   ]
  },
  {
   "cell_type": "code",
   "execution_count": 34,
   "metadata": {},
   "outputs": [
    {
     "data": {
      "text/plain": [
       "'By José Olivarez'"
      ]
     },
     "execution_count": 34,
     "metadata": {},
     "output_type": "execute_result"
    }
   ],
   "source": [
    "df['author'][10]"
   ]
  },
  {
   "cell_type": "code",
   "execution_count": 35,
   "metadata": {},
   "outputs": [
    {
     "data": {
      "text/plain": [
       "'so when i walk down the street, i hold handswith the wind. there’s a chimney coughingup ahead & a sky so honey, i could almost taste it.a cat struts away from me & two yellow eyesbecome four: just like that,i’m...'"
      ]
     },
     "execution_count": 35,
     "metadata": {},
     "output_type": "execute_result"
    }
   ],
   "source": [
    "df['summary'][10]"
   ]
  },
  {
   "cell_type": "code",
   "execution_count": 36,
   "metadata": {},
   "outputs": [
    {
     "name": "stdout",
     "output_type": "stream",
     "text": [
      "Title: poetry-magazineFebruary & my love is in another state\n",
      "\n",
      "Author: By José Olivarez\n",
      "\n",
      "Summary: so when i walk down the street, i hold handswith the wind. there’s a chimney coughingup ahead & a sky so honey, i could almost taste it.a cat struts away from me & two yellow eyesbecome four: just like that,i’m...\n",
      "\n",
      "Poem: so when i walk down the street, i hold hands\n",
      " with the wind. there’s a chimney coughing\n",
      " up ahead & a sky so honey, i could almost taste it.\n",
      " a cat struts away from me & two yellow eyes\n",
      "\n",
      " become four: just like that,\n",
      " i’m the loneliest creature on this block.\n",
      " soon the streetlights will come alive\n",
      " & television sets will light up with blues.\n",
      "\n",
      " stay with me. while the sky is still golden,\n",
      " hold the ladder so i can climb, & from\n",
      " the highest rung, i can scrape away a drizzle\n",
      " of light to wear around my neck. alone\n",
      "\n",
      " is the star i follow. in love & in solitude:\n",
      " alone is the home with the warmest glow.Source: Poetry (December 2019)\n",
      "\n",
      "Link: https://www.poetryfoundation.org/poetrymagazine/poems/151518/february-my-love-is-in-another-state\n",
      "\n"
     ]
    }
   ],
   "source": [
    "row = df.iloc[10]\n",
    "print(f\"Title: {row['title']}\\n\")\n",
    "print(f\"Author: {row['author']}\\n\")\n",
    "print(f\"Summary: {row['summary']}\\n\")\n",
    "print(f\"Poem: {row['poem']}\\n\")\n",
    "print(f\"Link: {row['link']}\\n\")"
   ]
  },
  {
   "cell_type": "code",
   "execution_count": 37,
   "metadata": {},
   "outputs": [
    {
     "data": {
      "text/plain": [
       "'My brother holds a snake by its head. The whole\\n \\xa0\\xa0\\xa0\\xa0\\xa0\\xa0\\xa0\\xa0\\xa0\\xa0\\xa0 length of the snake is the length\\n \\xa0\\n of my brother’s body. The snake’s head\\n \\xa0\\xa0\\xa0\\xa0\\xa0\\xa0\\xa0\\xa0\\xa0\\xa0\\xa0 is held safely, securely, as if my brother\\n \\xa0\\n is showing him something in the distant high grass.\\n \\xa0\\xa0\\xa0\\xa0\\xa0\\xa0\\xa0\\xa0\\xa0\\xa0\\xa0 I don’t know why he wants to hold them,\\n \\xa0\\n their strong bodies wrapping themselves around\\n \\xa0\\xa0\\xa0\\xa0\\xa0\\xa0\\xa0\\xa0\\xa0\\xa0\\xa0 the warmth of his arm. Constricting and made\\n \\xa0\\n of circles and momentum; slippery coolness smooth\\n \\xa0\\xa0\\xa0\\xa0\\xa0\\xa0\\xa0\\xa0\\xa0\\xa0\\xa0 against the ground. Still, this image of him,\\n \\xa0\\n holding a snake as it snakes as snakes\\n \\xa0\\xa0\\xa0\\xa0\\xa0\\xa0\\xa0\\xa0\\xa0\\xa0\\xa0 do, both a noun and verb and a story\\n \\xa0\\n that doesn’t end well. Once, we stole an egg\\n \\xa0\\xa0\\xa0\\xa0\\xa0\\xa0\\xa0\\xa0\\xa0\\xa0\\xa0 from the backyard chicken coop\\n \\xa0\\n and cracked it just to see what was inside: a whole\\n \\xa0\\xa0\\xa0\\xa0\\xa0\\xa0\\xa0\\xa0\\xa0\\xa0\\xa0 unhatched chick. Where we\\n \\xa0\\n expected yolk and mucus was an unfeathered\\n \\xa0\\xa0\\xa0\\xa0\\xa0\\xa0\\xa0\\xa0\\xa0\\xa0\\xa0 and unfurled sweetness. We stared at the thing,\\n \\xa0\\n dead now and unshelled by curiosity and terrible youth.\\n \\xa0\\xa0\\xa0\\xa0\\xa0\\xa0\\xa0\\xa0\\xa0\\xa0\\xa0 My brother pretended not to care so much,\\n \\xa0\\n while I cried, though only a little. Still, we buried it\\n \\xa0\\xa0\\xa0\\xa0\\xa0\\xa0\\xa0\\xa0\\xa0\\xa0\\xa0 in the brush, by the creeping thistle that tore up\\n \\xa0\\n our arms with their speared leaves, barbed\\n \\xa0\\xa0\\xa0\\xa0\\xa0\\xa0\\xa0\\xa0\\xa0\\xa0\\xa0 at the ends like weapons stuck in the rattlesnake grass.\\n \\xa0\\n But I knew, I knew that he’d cry if he was alone,\\n \\xa0\\xa0\\xa0\\xa0\\xa0\\xa0\\xa0\\xa0\\xa0\\xa0\\xa0 if he wasn’t a boy in the summer heat being a boy\\n \\xa0\\n in the summer heat. Years later, back from Mexico\\n \\xa0\\xa0\\xa0\\xa0\\xa0\\xa0\\xa0\\xa0\\xa0\\xa0\\xa0 or South America, he’d admit he was tired\\n \\xa0\\n of history, of always discovering the ruin by ruining\\n \\xa0\\xa0\\xa0\\xa0\\xa0\\xa0\\xa0\\xa0\\xa0\\xa0\\xa0 it, wrecking a forest for a temple, a temple\\n \\xa0\\n that should be simply left a temple. He wanted it\\n \\xa0\\xa0\\xa0\\xa0\\xa0\\xa0\\xa0\\xa0\\xa0\\xa0\\xa0 all to stay as it was, even if it went undiscovered.\\n \\xa0\\n I want to honor a man who wants to hold a wild thing,\\n \\xa0\\xa0\\xa0\\xa0\\xa0\\xa0\\xa0\\xa0\\xa0\\xa0\\xa0 only for a second, long enough to admire it fully,\\n \\xa0\\n and then wants to watch it safely return to its life,\\n \\xa0\\xa0\\xa0\\xa0\\xa0\\xa0\\xa0\\xa0\\xa0\\xa0\\xa0 \\xa0bends to be sure the grass closes up behind it.Copyright Credit: Ada Limon, \"Cyrus and the Snakes\" from The Hurting Kind.  Copyright © 2022 by Ada Limon.  Reprinted by permission of Milkweed Editions.'"
      ]
     },
     "execution_count": 37,
     "metadata": {},
     "output_type": "execute_result"
    }
   ],
   "source": [
    "df['poem'][49]"
   ]
  },
  {
   "cell_type": "code",
   "execution_count": 38,
   "metadata": {},
   "outputs": [],
   "source": [
    "# # load the webdriver\n",
    "# options = webdriver.ChromeOptions()\n",
    "# options.add_argument('headless')\n",
    "# options.add_argument('disable-gpu')\n",
    "\n",
    "# driver = webdriver.Chrome(options=options)\n",
    "# # Check if there is a next page by checking the page number element\n",
    "# driver.get(\"https://www.poetryfoundation.org/categories/winter\")\n",
    "# soup = BeautifulSoup(driver.page_source, 'html.parser')\n",
    "\n",
    "\n",
    "# filters_btns = soup.find('div', class_=\"flex w-auto items-center gap-2\")\n",
    "\n",
    "# current_page = filters_btns.find('button', class_=\"relative flex w-full cursor-default items-center justify-between gap-x-1.5 rounded-sm border-0 bg-gray-50 px-2.5 py-2.5 text-left text-sm leading-none text-black ring-1 ring-inset ring-gray-350 ring-offset-white placeholder:text-gray-500 focus:bg-white focus:outline-none focus:ring-1 focus:ring-red disabled:cursor-not-allowed disabled:opacity-75\")\n",
    "# current_page = current_page.find_all('span', style=\"pointer-events:none;\")\n",
    "# if current_page and current_page[0].text.strip().isdigit():\n",
    "# \tcurrent_page = int(current_page[0].text.strip())\n",
    "# else:\n",
    "# \tcurrent_page = None\n",
    "\n",
    "\n",
    "\n",
    "# # current_page = int(soup.find('span', style=\"pointer-events:none;\").text)\n",
    "# # next_page_button = driver.find_element(By.XPATH, f\"//button[contains(@aria-controls, 'radix-vue-select-content') and contains(., '{current_page + 1}')]\")\n",
    "# # next_page_button.click()\n",
    "# # time.sleep(2)\n",
    "\n",
    "\n",
    "# # print(filters_btns)\n",
    "\n",
    "# # print(sort_by)\n",
    "# # print(jump_to)\n",
    "# print(current_page)"
   ]
  },
  {
   "cell_type": "code",
   "execution_count": null,
   "metadata": {},
   "outputs": [],
   "source": []
  },
  {
   "cell_type": "code",
   "execution_count": 39,
   "metadata": {},
   "outputs": [
    {
     "data": {
      "text/plain": [
       "'https://www.poetryfoundation.org/poems/162176/cyrus-the-snakes'"
      ]
     },
     "execution_count": 39,
     "metadata": {},
     "output_type": "execute_result"
    }
   ],
   "source": [
    "df['link'][49]"
   ]
  },
  {
   "cell_type": "code",
   "execution_count": null,
   "metadata": {},
   "outputs": [],
   "source": [
    "# def scrape_poems():\n",
    "#     \"\"\"\n",
    "#     This function scrapes poems from the poetry foundation website\n",
    "#     and exports the data to a csv file\n",
    "\n",
    "#     Returns:\n",
    "#     df: a dataframe of the scraped data\n",
    "#     \"\"\"\n",
    "#     BASE_URL = \"https://www.poetryfoundation.org\"\n",
    "#     urls = [\n",
    "#         \"https://www.poetryfoundation.org/categories/winter\",\n",
    "#         \"https://www.poetryfoundation.org/categories/love\",\n",
    "#         \"https://www.poetryfoundation.org/categories/youth\",\n",
    "#         \"https://www.poetryfoundation.org/categories/relationships\",\n",
    "#         \"https://www.poetryfoundation.org/categories/travels-journeys\",\n",
    "#         \"https://www.poetryfoundation.org/categories/history-politics\",\n",
    "#     ]\n",
    "\n",
    "#     data = []  # to store the data\n",
    "#     # loop through the urls, then scrape the poems\n",
    "#     for url in urls:\n",
    "#         driver.get(url)\n",
    "#         time.sleep(2)\n",
    "\n",
    "#         while True:\n",
    "#             soup = BeautifulSoup(driver.page_source, 'html.parser')\n",
    "#             poems = soup.find_all('li', class_=\"col-span-full pt-6\")\n",
    "#             for p in poems:\n",
    "#                 title = p.find('h3').text\n",
    "#                 author = p.find('div', class_=\"type-kappa text-gray-600\")\n",
    "#                 if author:\n",
    "#                     author = author.text\n",
    "#                 else:\n",
    "#                     author = None\n",
    "#                 summary = p.find('div', class_=\"rich-text line-clamp-[var(--line-clamp)]\")\n",
    "#                 if summary:\n",
    "#                     summary = summary.text\n",
    "#                 else:\n",
    "#                     summary = None\n",
    "\n",
    "#                 link = p.find('a')['href']\n",
    "#                 link = BASE_URL + link\n",
    "    \n",
    "#                 # simulate a click action to click the link to access the entire poem in the next page!\n",
    "#                 driver.get(link)\n",
    "#                 time.sleep(2)\n",
    "#                 soup = BeautifulSoup(driver.page_source, 'html.parser')\n",
    "#                 poem = soup.find('div', class_=\"poem\")\n",
    "#                 if poem:\n",
    "#                     poem = poem.text\n",
    "#                 else:\n",
    "#                     poem = None\n",
    "\n",
    "#                 data.append({\"title\": title, \"author\": author, \"summary\": summary, \"poem\": poem, \"link\": link})\n",
    "\n",
    "#             # Check if there is a next page by checking the page number element\n",
    "#             try:\n",
    "#                 current_page = int(soup.find('span', style=\"pointer-events:none;\").text)\n",
    "#                 next_page_button = driver.find_element(By.XPATH, f\"//button[contains(@aria-controls, 'radix-vue-select-content') and contains(., '{current_page + 1}')]\")\n",
    "#                 next_page_button.click()\n",
    "#                 time.sleep(2)\n",
    "#             except:\n",
    "#                 break\n",
    "\n",
    "#     df = pd.DataFrame(data)  # create a dataframe\n",
    "#     df.to_csv('poems.csv', mode='a', header=False, index=False)  # export to csv file\n",
    "#     return df  # returns a dataframe of the scraped data\n",
    "\n",
    "# # Initialize the webdriver\n",
    "# driver = webdriver.Chrome(options=options)\n",
    "# scrape_poems()\n",
    "# driver.quit()\n"
   ]
  },
  {
   "cell_type": "code",
   "execution_count": null,
   "metadata": {},
   "outputs": [],
   "source": []
  }
 ],
 "metadata": {
  "kernelspec": {
   "display_name": "Python 3 (ipykernel)",
   "language": "python",
   "name": "python3"
  }
 },
 "nbformat": 4,
 "nbformat_minor": 2
}
