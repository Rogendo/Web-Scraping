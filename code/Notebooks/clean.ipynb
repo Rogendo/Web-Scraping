{
 "cells": [
  {
   "cell_type": "code",
   "execution_count": 4,
   "metadata": {},
   "outputs": [
    {
     "data": {
      "application/vnd.microsoft.datawrangler.viewer.v0+json": {
       "columns": [
        {
         "name": "index",
         "rawType": "int64",
         "type": "integer"
        },
        {
         "name": "title",
         "rawType": "object",
         "type": "string"
        },
        {
         "name": "summary",
         "rawType": "object",
         "type": "unknown"
        },
        {
         "name": "content",
         "rawType": "object",
         "type": "unknown"
        },
        {
         "name": "links",
         "rawType": "object",
         "type": "string"
        },
        {
         "name": "url",
         "rawType": "object",
         "type": "string"
        }
       ],
       "conversionMethod": "pd.DataFrame",
       "ref": "6f964c1e-5272-47aa-81fe-d851e4f3e9c5",
       "rows": [
        [
         "0",
         "Baseball",
         null,
         null,
         "['/wiki/Wikipedia:Featured_articles*']",
         "https://en.wikipedia.org/wiki/Baseball"
        ],
        [
         "1",
         "Major League Baseball",
         null,
         null,
         "['/wiki/Wikipedia:Protection_policy#pending']",
         "https://en.wikipedia.org/wiki/Major_League_Baseball"
        ],
        [
         "2",
         "List of baseball video games",
         "The following is a list ofbaseballsports video games.",
         "The following is a list ofbaseballsports video games.\n\n=== Franchises ===\n\nAll-Star Baseball\nBackyard Baseball\nBaseball Simulator 1.000\nBaseball Stars\nBases Loaded(Moero!! Pro Yakyū)\nChampion Baseball\nChōkūkan Night: Pro Yakyū King\nFamily Stadium(Extra Bases)\nKōshien\nMario Baseball\nMLB\nMLB 2K\nMLB: The Show\nMVP Baseball\nPower Pros(Jikkyō Powerful Pro Yakyū)\nProfessional Baseball Spirits(Pro Yakyū Spirits)\nR.B.I. Baseball\nSuper Mega Baseball\nTriple Play\nWorld Stadium(Great Sluggers)\n\n=== Games ===\n\nArcade\nAstrocade\nApple II\nCommodore 64\nAtari 8-bit\nCommodore 64\nCommodore 64\nAtari 8-bit\nAtari 2600\nAtari 5200\nAtari 7800\nCommodore 64\nAtari 8-bit\nSega Genesis\nAmiga\nMS-DOS\nAtari 2600\nAtari 7800\nNES\nGenesis\nMS-DOS\nNES\nSNES\nGenesis\nNES\nNeo-Geo\nSNES\nGenesis\nNeo-Geo\nSNES\nGenesis\nSNES\nGenesis\nSNES\nGenesis\n1996/05/31\n1996/06/05\n1995\nMS-DOS\nPlayStation\nSNES\nGame Boy\nGenesis\nSaturn\nIguana Entertainment\nIguana Entertainment UK\nRealtime Associates(Game Boy)\nMS-DOS\nPlayStation\nPlayStation\nSaturn\nSaturn\nGenesis\nPlayStation\nSaturn\nMicrosoft Windows\nPlayStation\nPC\nPlayStation\nNintendo 64\nGame Boy\nPC\nPlayStation\nPC\nPlayStation\nNintendo 64\nNintendo 64\nGame Boy Color\nRockstar San Diego\nSoftware Creations\nNintendo 64\nGame Boy Color\nIguana Entertainment\nRealtime Associates\nPC\nMac\nMicrosoft Windows\nPlayStation\nNintendo 64\nGame Boy Color\nHigh Voltage Software\nKnowWonder\nPC\nPlayStation\nPC\nPlayStation\nGame Boy Color\nElectronic Arts\nElectronic Arts\nTHQ\nSquareSoft\nNippon Television Network Corporation\n2001/03/04\n2001/03/12\n2001/03/12\nPC\nPlayStation 2\nPlayStation\nPlayStation 2\nGameCube\n2001/03/26\n2001/03/26\n2001/03/14\n2001/09/16\nPC\nPlayStation 2\nPlayStation\nGame Boy Advance\n3DO\nMöbius Entertainment(GBA)\nXbox\nPlayStation 2\nGameCube\nGame Boy Advance\nAcclaim Studios Austin\nThe Creations Group Ltd.\nPC\nPlayStation\nPlayStation 2\nGame Boy Advance\n3DO\nMöbius Entertainment(GBA)\nPlayStation 2\nXbox\nSquareSoft\nMajor League Baseball Advanced Media\n2002//06/23\n2002/08/26\n2003/09/03\nPlayStation 2\nXbox\nGameCube\nPC\nPocket PC\nPC\nPlayStation 2\nXbox\nGBA\n3DO\nMöbius Entertainment(GBA)\nXbox\nPlayStation 2\nGameCube\nGame Boy Advance\nAcclaim Studios Austin\nAcclaim Studios Manchester\nPlayStation 2\nXbox\nVisual Concepts\nBlue Shift Inc.\nPlayStation 2\nXbox\nGameCube\nGame Boy Advance\nPC\nPlayStation 2\nXbox\nPlayStation\nPlayStation 2\nArcade\nGameCube\nPlayStation 2\nXbox\nPlayStation 2\nPlayStation\nPlayStation 2\n2004/05/04\n2004/04/06\nPlayStation 2\nXbox\nPC\nPlayStation 2\nXbox\nGameCube\nPlayStation 2\nXbox\nPC\nPlayStation 2\nXbox\nGameCube\n2005/02/28\n2005/02/23\nPlayStation 2\nXbox\nPlayStation 2\nXbox\nPlayStation 2\nPSP\n2006/04/03\n2006/04/13\n2006/04/10\n2006/04/03\n2006/06/12\nPlayStation 2\nPSP\nXbox 360\nXbox\nGameCube\nMicrosoft Windows\nMac\nPlayStation 2\nXbox\n2006/08/08\n2006/08/15\n2006/08/29\n2006/06/12\nPC\nPlayStation 2\nGameCube\nGBA\n2006/11/19\n2006/12/02\n2006/12/07\n2006/12/08\nWalt Disney Japan\nYahoo! Kids\nPlayStation 3\nPlayStation 2\nPSP\nXbox 360\nWii\nPlayStation 2\nXbox\nPlayStation 3\nPlayStation 2\nPSP\nPlayStation 3\nPlayStation 2\nPSP\nPlayStation 3\nPlayStation 2\nPSP\nPlayStation 3\nPlayStation 2\nXbox 360\nWii\nNintendo DS\n2008/07/29\n2008/08/25\n2008/10/03\nWii\nPlayStation 2\nNintendo DS\nMicrosoft Windows\nPlayStation 2\nPlayStation 3\nPSP\nXbox 360\nWii\nVisual Concepts\nKush Games\nWindows\nPlayStation 2\nPlayStation 3\nPSP\nXbox 360\nWii\nPlayStation 3\nPlayStation 2\nXbox 360\nWii\nPlayStation 3\nPlayStation Vita\nMicrosoft Windows\nPlayStation 3\nWii\nXbox 360\nPlayStation 2\nPlayStation 3\nPlayStation Vita\nPlayStation 3\nXbox 360\nPlayStation 3\nPlayStation Vita\nPlayStation 4\nAndroid\niPhone\nPlayStation 3\nPlayStation 4\nXbox 360\nXbox One\nPlayStation 3\nPlayStation 4\nXbox One\nSteam\nWii U\nNintendo 3DS\nMicrosoft Windows\nMac\nLinux\nPlayStation 3\nPlayStation Vita\nPlayStation 4\niPhone\nSteam\nPlayStation 4\nXbox One\nMicrosoft Windows\nMac\nLinux\nSteam\nPlayStation 4\nXbox One\nPlayStation 3\nPlayStation 4\nCamelot Software Planning\nBandai Namco Games\nMicrosoft Windows\nMac\nLinux\nSteam\nPlayStation 4\nXbox One\nNintendo Switch\nPlayStation 4\nXbox One\nNintendo Switch\nPlayStation 4\nXbox One\nNintendo Switch\nAndroid\niOS\nPlayStation 4\nPlayStation 5\nXbox One\nXbox Series X/S\nPlayStation 4\nPlayStation 5\nXbox One\nXbox Series X/S\nNintendo Switch\nPlayStation 4\nPlayStation 5\nXbox One\nXbox Series X/S\nNintendo Switch\nPlayStation 4\nPlayStation 5\nXbox One\nXbox Series X/S\nNintendo Switch\n\n=== References ===\n\n^Agnello, Anthony John (7 August 2014).\"A Japanese Studio Turned Major League Into an Extraordinarily Dull Video Game\".The A.V. Club.The Onion. Retrieved7 August2014.\n^\"Major League Release Information for NES\".GameFAQs.CBS Interactive. Retrieved7 August2014.\n^\"Slugger! Release Information for PlayStation 2 - GameFAQs\".gamefaqs.gamespot.com. Retrieved2024-11-11.\nv\nt\ne\nBattle royale\nBeat 'em up\nFighting\nMaze\nPlatformer\nFirst-person shooter\nLight-gun\nThird-person shooters\nSurvival\nVehicular combat\nMMORPG\nRoguelike\nTactical role-playing\nBusiness simulation\nCity-building\nGod\nSpace flight simulator\nTheme park management\nAmerican football\nAssociation football\nAustralian rules football\nBaseball\nBasketball\nCricket\nIce hockey\nVolleyball\nRugby union\nChess\nFightingprofessional wrestlingSumo\nprofessional wrestling\nSumo\nGolf\nRacing\nSnowboarding\nprofessional wrestling\nSumo\n4X\nArtillery\nChessShogi\nShogi\nGrand strategy\nMOBA\nReal-time strategyMMORTSReal-time tactics\nMMORTS\nReal-time tactics\nTurn-based strategyMMOTBSturn-based tactics\nMMOTBS\nturn-based tactics\nShogi\nMMORTS\nReal-time tactics\nMMOTBS\nturn-based tactics\nAlternate reality\nCollectible card\nEducational\nEroticEroge\nEroge\nGraphic adventure\nHorror\nMMOMUD\nMUD\nParty\nPuzzle\nQuiz\nEroge\nMUD",
         "['/wiki/Triple_Play_98', '/wiki/Activision', '/wiki/Bandai', '/wiki/Atari,_Inc.', '/wiki/Ch%C5%8Dk%C5%ABkan_Night:_Pro_Yaky%C5%AB_King', '/wiki/MS-DOS', '/wiki/Mike_Piazza%27s_Strike_Zone', '/wiki/VR_Baseball_2000', '/wiki/MLB_The_Show_22', '/wiki/Baseball_Simulator_1.000', '/wiki/MLB_Slugfest_2004', '/wiki/Baseball_(1971_video_game)', '/wiki/List_of_alternate_reality_games', '/wiki/John_Burgeson', '/wiki/High_Heat_Major_League_Baseball_2004', '/wiki/Virtual_League_Baseball', '/wiki/Rockstar_San_Diego', '/wiki/Roger_Clemens%27_MVP_Baseball', '/wiki/List_of_business_simulation_video_games', '/wiki/Commodore_64', '/wiki/Acclaim_Studios_Austin', '/wiki/Taito', '/wiki/Microvision', '/wiki/MLB_14:_The_Show', '/wiki/Great_Baseball', '/wiki/Eddie_Dombrower', '/wiki/Bad_News_Baseball', '/wiki/Mac_(computer)', '/wiki/High_Heat_Major_League_Baseball_2003', '/wiki/Computer_Baseball', '/wiki/Mad_Catz', '/wiki/GT_Interactive', '/wiki/MLB_Power_Pros_2008', '/wiki/MLBPA', '/wiki/Digital_Equipment_Corporation', '/wiki/Xbox_360', '/wiki/Data_East', '/wiki/IOS', '/wiki/GameFAQs', '/wiki/Crystal_Dynamics', '/wiki/CBS_Interactive', '/wiki/List_of_American_football_video_games', '/wiki/Dusty_Diamond%27s_All-Star_Softball', '/wiki/PDP-10', '/wiki/MLB_The_Show_21', '/wiki/NuFX', '/wiki/NewKidCo', '/wiki/List_of_ice_hockey_video_games', '/wiki/Sony_Interactive', '/wiki/Backyard_Baseball_2001', '/wiki/Major_League_Baseball_2K6', '/wiki/All-Star_Baseball_%2797_featuring_Frank_Thomas', '/wiki/List_of_space_flight_simulation_games', '/wiki/Blue_Castle_Games', '/wiki/Hardball_III', '/wiki/Nippon_TV', '/wiki/Major_League_Baseball_2K8', '/wiki/List_of_Australian_rules_football_video_games', '/wiki/Winnie_the_Pooh%27s_Home_Run_Derby', '/wiki/MLBPA_Baseball', '/wiki/Mega_Drive', '/wiki/List_of_grand_strategy_video_games', '/wiki/Sports_Interactive', '/wiki/Template_talk:Video_game_lists_by_genre', '/wiki/Earl_Weaver_Baseball', '/wiki/Time_Warner_Interactive', '/wiki/MLB_09:_The_Show', '/wiki/Hardball_II', '/wiki/Triple_Play_2000', '/wiki/Wii_U', '/wiki/Infinite_Monkey', '/wiki/MLB_2005', '/wiki/MLB_2006', '/wiki/HardBall_6', '/wiki/Romstar', '/wiki/Nintendo_Entertainment_System', '/wiki/Baseball_Stars_2', '/wiki/Maxis', '/wiki/List_of_role-playing_video_games', '/wiki/Jikky%C5%8D_Powerful_Pro_Yaky%C5%AB', '/wiki/List_of_puzzle_video_games', '/wiki/List_of_sumo_video_games', '/wiki/Wii', '/wiki/Microsoft_Baseball_2001', '/wiki/LJN', '/wiki/List_of_massively_multiplayer_online_games', '/wiki/Atari_Games', '/wiki/List_of_sports_video_games', '/wiki/Pandemic_Studios', '/wiki/Apple_II', '/wiki/Cinematronics', '/wiki/Baseball_Stars', '/wiki/List_of_horror_video_games', '/wiki/List_of_basketball_video_games', '/wiki/Irem', '/wiki/Bases_Loaded_(video_game)', '/wiki/Game_Boy_Advance', '/wiki/IBM_PC_compatible', '/wiki/List_of_massively_multiplayer_online_turn-based_strategy_games', '/wiki/VR_Baseball_%2799', '/wiki/List_of_snowboarding_video_games', '/wiki/Commodore_PET', '/wiki/MLB', '/wiki/All-Star_Baseball_2005', '/wiki/Ultimate_Baseball_Online_2006', '/wiki/MLB_%2799', '/wiki/Microsoft', '/wiki/Namco', '/wiki/IBM', '/wiki/ADK_(company)', '/wiki/Acclaim_Entertainment', '/wiki/List_of_4X_video_games', '/wiki/MLB_The_Show_18', '/wiki/MVP_Baseball_(video_game_series)', '/wiki/All-Star_Baseball_%2799', '/wiki/Grand_Slam_(video_game)', '/wiki/HardBall!', '/wiki/Super_Bases_Loaded', '/wiki/Coleco', '/wiki/Bottom_of_the_9th_%2799', '/wiki/Sports_video_games', '/wiki/List_of_educational_video_games', '/wiki/Strategic_Simulations', '/wiki/Major_League_Baseball_2K11', '/wiki/MLB_13:_The_Show', '/wiki/List_of_erotic_video_games', '/wiki/PlayStation_(console)', '/wiki/R.B.I._Baseball', '/wiki/Intellivision', '/wiki/Bandai_Namco_Games', '/wiki/MLB_2004', '/wiki/List_of_real-time_strategy_video_games', '/wiki/KnowWonder', '/wiki/Kush_Games', '/wiki/Acclaim_Studios_Manchester', '/wiki/Super_Mega_Baseball', '/wiki/Atari_2600', '/wiki/MLB_2001', '/wiki/Nintendo', '/wiki/Front_Page_Sports:_Baseball_Pro_%2796_Season', '/wiki/Out_of_the_Park_Baseball', '/wiki/Special:EditPage/List_of_baseball_video_games', '/wiki/Pete_Rose_Baseball', '/wiki/List_of_battle_royale_games', '/wiki/MLB_The_Show_24', '/wiki/NPB', '/wiki/Sports_Mogul', '/wiki/List_of_simulation_video_games', '/wiki/MLB_Slugfest_2006', '/wiki/Action_game', '/wiki/Namco_Bandai_Games', '/wiki/Triple_Play_97', '/wiki/Little_League_Baseball:_Championship_Series', '/wiki/K%C5%8Dshien_(series)', '/wiki/Tony_La_Russa_Baseball', '/wiki/MLB_06:_The_Show', '/wiki/Super_Nintendo_Entertainment_System', '/wiki/Neo_Geo_(system)', '/wiki/Accolade,_Inc.', '/wiki/Bases_Loaded_3', '/wiki/Xbox_Series_X/S', '/wiki/Infogrames', '/wiki/Bo_Jackson_Baseball', '/wiki/The_Onion', '/wiki/List_of_artillery_video_games', '/wiki/Wii_Sports', '/wiki/Major_League_Baseball_Advanced_Media', '/wiki/Microsoft_Baseball_3D_1998_Edition', '/wiki/Ultra_Games', '/wiki/Pro_Baseball:_Family_Stadium', '/wiki/Lists_of_video_games#By_genre', '/wiki/MLB_%2798', '/wiki/Steam_(service)', '/wiki/Sierra_On-Line', '/wiki/Home_Run_King', '/wiki/SNK', '/wiki/Nintendo_3DS', '/wiki/List_of_god_games', '/wiki/List_of_volleyball_video_games', '/wiki/Baseball_(1983_video_game)', '/wiki/Tommy_Lasorda_Baseball', '/wiki/989_Sports_Major_League_Baseball_series', '/wiki/Tecmo_Baseball', '/wiki/PlayStation_5', '/wiki/Super_Bases_Loaded_2', '/wiki/List_of_vehicular_combat_games', '/wiki/Ken_Griffey_Jr.%27s_Winning_Run', '/wiki/San_Diego_Studio', '/wiki/Rare_(company)', '/wiki/PlayStation', '/wiki/Bases_Loaded_II', '/wiki/Out_of_the_Park', '/wiki/List_of_association_football_video_games', '/wiki/Nolan_Ryan%27s_Baseball', '/wiki/List_of_quiz_arcade_games', '/wiki/Visual_Concepts', '/wiki/R.B.I._Baseball_(series)', '/wiki/Major_League_Baseball_2K5', '/wiki/Cal_Ripken_Jr._Baseball', '/wiki/Family_Stadium', '/wiki/Triple_Play_2001', '/wiki/IPhone', '/wiki/List_of_MUDs', '/wiki/List_of_city-building_video_games', '/wiki/List_of_roguelikes', '/wiki/Major_League_Baseball_Featuring_Ken_Griffey_Jr.', '/wiki/Sony_Computer_Entertainment_of_America', '/wiki/Template:Video_game_lists_by_genre', '/wiki/List_of_theme_park_management_video_games', '/wiki/Nintendo_Entertainment_Analysis_and_Development', '/wiki/Triple_Play_(video_game_series)', '/wiki/Square_(video_game_company)', '/wiki/Power_Pros', '/wiki/Nintendo_Switch', '/wiki/WizardWorks', '/wiki/Commodore_International', '/wiki/List_of_third-person_shooters', '/wiki/MLB_Slugfest_2003', '/wiki/All-Star_Baseball_2000', '/wiki/RCA', '/wiki/Magnavox', '/wiki/MLB_Slugfest_Loaded', '/wiki/Major_League_Baseball_2K10', '/wiki/Jaleco', '/wiki/Major_League_Baseball_2K7', '/wiki/Macintosh', '/wiki/Sports_Illustrated:_Championship_Football_%26_Baseball', '/wiki/List_of_turn-based_tactics_video_games', '/wiki/Strategy_video_game', '/wiki/List_of_digital_collectible_card_games', '/wiki/WOW_Entertainment', '/wiki/Iguana_Entertainment_UK', '/wiki/Microsoft_Baseball_2000', '/wiki/List_of_fighting_games', '/wiki/List_of_professional_wrestling_video_games', '/wiki/Atari', '/wiki/Camelot_Software_Planning', '/wiki/MLB_The_Show_19', '/wiki/Wikipedia:Reliable_sources', '/wiki/Realtime_Associates', '/wiki/List_of_rugby_union_video_games', '/wiki/All-Star_Baseball_2004', '/wiki/Absolute_Entertainment', '/wiki/MLB_2002', '/wiki/All-Star_Baseball_2001', '/wiki/Baseball', '/wiki/N-Gage', '/wiki/Android_(operating_system)', '/wiki/MVP_Baseball_2004', '/wiki/List_of_shogi_video_games', '/wiki/Mario_Sports_Superstars', '/wiki/MLB:_The_Show', '/wiki/List_of_racing_video_games', '/wiki/Baseball_Mogul', '/wiki/Super_Challenge_Baseball', '/wiki/Blue_Sky_Software', '/wiki/Tradewest', '/wiki/Magnavox_Odyssey', '/wiki/MLB_10:_The_Show', '/wiki/Now_Production', '/wiki/Fairchild_Semiconductor', '/wiki/Special:EditPage/Template:Video_game_lists_by_genre', '/wiki/MLB_15:_The_Show', '/wiki/Mindscape_(company)', '/wiki/Blaseball', '/wiki/Tony_La_Russa_Baseball_4', '/wiki/World_Series_Baseball_2K1', '/wiki/List_of_beat_%27em_ups', '/wiki/BlueSky_Software', '/wiki/List_of_graphic_adventure_games', '/wiki/Sony_Interactive_Entertainment', '/wiki/List_of_cricket_video_games', '/wiki/PlayStation_4', '/wiki/Extra_Innings_(video_game)', '/wiki/M%C3%B6bius_Entertainment', '/wiki/List_of_turn-based_strategy_video_games', '/wiki/Virtual_Boy', '/wiki/Mattel', '/wiki/MLB_Dugout_Heroes', '/wiki/List_of_first-person_shooters', '/wiki/Family_Computer', '/wiki/Master_System', '/wiki/Amiga', '/wiki/List_of_massively_multiplayer_online_role-playing_games', '/wiki/List_of_platformer_series', '/wiki/Microsoft_Windows', '/wiki/List_of_chess_software', '/wiki/List_of_multiplayer_online_battle_arena_games', '/wiki/Acclaim_Sports', '/wiki/Home_Run_(video_game)', '/wiki/ESPN_Baseball_Tonight', '/wiki/MLB_Advanced_Media', '/wiki/Enlight_Software', '/wiki/TOSE', '/wiki/MLB_2003', '/wiki/Baseball_(Intellivision_video_game)', '/wiki/MLB_The_Show_23', '/wiki/Relief_Pitcher_(video_game)', '/wiki/Sega', '/wiki/MLB_12:_The_Show', '/wiki/Browser_game', '/wiki/Virgin_Interactive', '/wiki/Xbox_One', '/wiki/Strategic_Simulations,_Inc.', '/wiki/ESPN_Major_League_Baseball_(video_game)', '/wiki/List_of_massively_multiplayer_online_real-time_strategy_games', '/wiki/Baseball_Stars_Professional', '/wiki/All-Star_Baseball_2003', '/wiki/MVP_06:_NCAA_Baseball', '/wiki/MLB_07:_The_Show', '/wiki/VR_Baseball_%2797', '/wiki/Videocart-12:_Baseball', '/wiki/Super_Batter_Up', '/wiki/The_A.V._Club', '/wiki/Sports_Talk_Baseball', '/wiki/PlayStation_2', '/wiki/IBM_1620', '/wiki/Frank_Thomas%27_Big_Hurt_Baseball', '/wiki/Gray_Matter_(company)', '/wiki/All-Star_Baseball_2002', '/wiki/List_of_maze_video_games', '/wiki/Triple_Play_99', '/wiki/All-Star_Baseball', '/wiki/High_Heat_Major_League_Baseball_2001', '/wiki/Tecmo', '/wiki/MLB_08:_The_Show', '/wiki/Farsight_Technologies', '/wiki/Triple_Play_Baseball', '/wiki/Blue_Shift', '/wiki/World_Stadium', '/wiki/Xbox_(console)', '/wiki/Dreamcast', '/wiki/Midway_Games', '/wiki/Left_Field_Productions', '/wiki/Super_Baseball_2020', '/wiki/Personal_computer', '/wiki/Software_Creations_(UK)', '/wiki/Sega_Genesis', '/wiki/World_Series_Baseball_%2798', '/wiki/Champion_Baseball', '/wiki/THQ', '/wiki/Matrix_Games', '/wiki/RCA_Studio_II', '/wiki/Sting_Entertainment', '/wiki/Tecmo_Super_Baseball', '/wiki/Pocket_PC', '/wiki/MLB_World_Series_2009', '/wiki/List_of_tactical_role-playing_video_games', '/wiki/List_of_survival_games', '/wiki/Backyard_Baseball', '/wiki/PlayStation_Portable', '/wiki/MVP_Baseball_2005', '/wiki/Tengen_(company)', '/wiki/Affect_(company)', '/wiki/Professional_Baseball_Spirits', '/wiki/MLB_16:_The_Show', '/wiki/Sony_Imagesoft', '/wiki/Don_Daglow', '/wiki/List_of_light-gun_games', '/wiki/Yahoo!_Kids', '/wiki/List_of_golf_video_games', '/wiki/MLB_The_Show_20', '/wiki/Ken_Griffey_Jr.%27s_Slugfest', '/wiki/Major_League_Baseball_2K13', '/wiki/Wikipedia:WikiProject_Lists#Dynamic_lists', '/wiki/Hudson_Soft', '/wiki/Bases_Loaded_4', '/wiki/Humongous_Entertainment', '/wiki/Base_Wars', '/wiki/MLB_The_Show_17', '/wiki/The_BIGS', '/wiki/Atari_5200', '/wiki/Baseball_Mogul_2006', '/wiki/Monkeystone', '/wiki/Baseball_(1977_video_game)', '/wiki/2K_Sports', '/wiki/Triple_Play_2002', '/wiki/Interplay_Entertainment', '/wiki/Agetec', '/wiki/Major_League_Baseball_2K12', '/wiki/EA_Canada', '/wiki/Ken_Griffey_Jr._Presents_Major_League_Baseball', '/wiki/Atari_7800', '/wiki/Game_Boy', '/wiki/Culture_Brain', '/wiki/Iguana_Entertainment', '/wiki/JPBPA', '/wiki/PureSim_Baseball_2007', '/wiki/PlayStation_3', '/wiki/World_Series_Baseball_(video_game)', '/wiki/Super_Baseball', '/wiki/Jaleco_Entertainment', '/wiki/Arcade_video_game', '/wiki/Major_League_Baseball_2K9', '/wiki/2k_Sports', '/wiki/Channel_F', '/wiki/List_of_real-time_tactics_video_games', '/wiki/Sculptured_Software', '/wiki/Backyard_Baseball_2007', '/wiki/Kemco', '/wiki/Nokia', '/wiki/Linux', '/wiki/RealSports_Baseball', '/wiki/World_Series_Baseball_2K3', '/wiki/Nintendo_DS', '/wiki/Stormfront_Studios', '/wiki/Intellivision_World_Series_Baseball', '/wiki/Super_Baseball_Simulator_1.000', '/wiki/989_Sports', '/wiki/EA_Sports', '/wiki/MLB_Pennant_Race', '/wiki/Mario_Baseball', '/wiki/MLB_2K', '/wiki/Sega_Saturn', '/wiki/MLB_2000', '/wiki/Wow_Entertainment', '/wiki/Major_League_Baseball_(video_game)', '/wiki/PlayStation_Vita', '/wiki/Broderbund', '/wiki/List_of_eroge', '/wiki/Mario_Superstar_Baseball', '/wiki/Game_Boy_Color', '/wiki/Nintendo_64', '/wiki/Odyssey%C2%B2', '/wiki/MVP_07:_NCAA_Baseball', '/wiki/Sammy_Sosa_High_Heat_Baseball_2001', '/wiki/VR_Sports', '/wiki/High_Heat_Major_League_Baseball_2002', '/wiki/Super_Bases_Loaded_3', '/wiki/The_3DO_Company', '/wiki/GameCube', '/wiki/MVP_Baseball_2003', '/wiki/MicroLeague_Baseball', '/wiki/Astrocade', '/wiki/Dynamix', '/wiki/3D_Baseball', '/wiki/Out_of_the_Park_Developments', '/wiki/Atari_8-bit', '/wiki/World_Wide_Web', '/wiki/Electronic_Arts', '/wiki/High_Heat_Major_League_Baseball_1999', '/wiki/Mario_Super_Sluggers', '/wiki/High_Voltage_Software', '/wiki/Wikipedia:What_Wikipedia_is_not#CRYSTAL', '/wiki/Mindspan', '/wiki/ColecoVision', '/wiki/MLB_11:_The_Show', '/wiki/List_of_party_video_games', '/wiki/Konami']",
         "https://en.wikipedia.org/wiki/List_of_baseball_video_games"
        ],
        [
         "3",
         "Baseball Reference",
         "\nBaseball Referenceis abaseball statisticsdatabase maintained bySports Reference. The site provides career statistics forMajor League Baseball(MLB) players and teams as well as records,MLB drafthistory, andsabermetrics.",
         "\nBaseball Referenceis abaseball statisticsdatabase maintained bySports Reference. The site provides career statistics forMajor League Baseball(MLB) players and teams as well as records,MLB drafthistory, andsabermetrics.\n\n=== History ===\n\nFounder Sean Forman began developing the website while working on his Ph.D. dissertation inapplied mathandcomputational scienceat theUniversity of Iowa. While writing his dissertation, he had also been writing articles on and blogging about sabermetrics. Forman's database was originally built from theTotal Baseballseries of baseballencyclopedias.\nThe website went online in April 2000, after first being launched in February 2000 as part of the website for theBig Bad Baseball Annual. It was originally built as a web interface to theLahman Baseball Database, though it now employs a variety of data sources.\nIn 2004, Forman foundedSports Reference. Sports Reference is a website that came out of the Baseball Reference website. The company wasincorporatedas Sports Reference, LLC in 2007.In 2006, Forman left his job as a math professor atSaint Joseph's Universityin order to focus on Baseball Reference full-time.\nIn February 2009, Fantasy Sports Ventures took a minority stake in Sports Reference, LLC, the parent company of Baseball Reference, for a \"low seven-figure sum\".\nAt the end of April 2021, the site changed a number of identifying names, \"discontinuing the use of nicknames that are racially or ethnically influenced\" and \"names based upon a player's disability\", such asChief BenderandDummy Hoy, who are now listed as Charles Bender and Billy Hoy, respectively.\n\n=== Features ===\n\n\n=== Statistics ===\n\nThe site has season, career, andminor leaguerecords (when available, back to1888) for everyone who has played Major League Baseball, year-by-year team pages, all final league standings, all postseason numbers, voting results for all historic awards such as theCy Young AwardandMVP, head-to-head batter vs. pitcher career totals, individual statistical leaders for each season and all-time, managers' career records, the full results of all MLB player drafts,Negro leaguesstatistics (Baseball Reference added Negro League Statistics to its website in 2021), a baseball encyclopedia (the Bullpen),and box scores and game logs from every MLB game back to1901, among other features.\nTo compare ballplayers to one-another it offers \"Black Ink\" and \"Gray Ink\" tests, which tally a player's dominance and overall productivity against his peers.  It also offerssabermetricianJay Jaffe's system acronymmed \"JAWS\" method for ranking players of different eras against each other by weighting their primes.\n\n=== Bullpen ===\n\nBaseball Reference has its own baseball encyclopedia, awikicalled \"Baseball Reference Bullpen\", which can be edited by anyone and is modeled afterWikipedia.As of December 2023,the Baseball Reference Bullpen contains over 109,100 articles.\n\n=== Easter eggs and other humor ===\n\nIn addition, there are a number of what the website calls \"Frivolities.\" Examples include:\nThe Oracle of Baseball, which is no longer active on the website[9], linked any two players by common teammates in the way the pop culture favorite \"Oracle of Bacon\" website does.\nA page devoted toKeith Hernandez's mustache,[4]which is the only \"fictional\" page on Baseball Reference.[10]\nThe site made \"Tungsten Arm O'Doyle\", an internet meme associated withShohei Ohtani, a redirect to Ohtani's page.[11]\nAlthough the standard player page notes a given player's favored batting and throwing arms,Paul O'Neill's page adds his kicking leg and a link to a video of the 1989 game when he kicked the ball from the outfield to first base.[12]\n\n=== See also ===\n\nSports Reference\nPro Football Reference\n\n=== References ===\n\n^ab\"About Sports Reference\".Sports Reference. RetrievedAugust 7,2024.\n^abWeinreb, Michael (October 28, 2015).\"The Sublime Simplicity of Baseball-Reference.com\".Rolling Stone. RetrievedOctober 28,2015.\n^\"Company Overview of Sports Reference, LLC\".Bloomberg Businessweek. Archived fromthe originalon November 8, 2013. RetrievedNovember 8,2013.\n^ab\"Keith Hernandez Mustache Statistics and History\".Baseball Reference.Archivedfrom the original on November 25, 2024. RetrievedDecember 21,2024.\n^Fisher, Eric (February 16, 2009).\"FSV buys stake in reference sites\".Sports Business Journal. RetrievedJuly 16,2011.\n^ab\"Changing Player Identification Names from Player Nicknames to Given Names\".sports-reference.com. April 30, 2021. RetrievedMay 10,2021.\n^\"Main Page – BR Bullpen\".Baseball Reference. Sports Reference. Archived fromthe originalon June 17, 2009. RetrievedJuly 16,2011.\n^\"Main Page –BR Bullpen\".Baseball Reference. Sports Reference. Archived fromthe originalon July 19, 2011. RetrievedJuly 17,2011.\n^sean (May 28, 2024).\"Baseball Reference is sunsetting the Oracle of Baseball\".Sports Reference.Archivedfrom the original on December 17, 2024. RetrievedDecember 21,2024.\n^Perry, Dayn (April 30, 2013).\"Keith Hernandez's mustache has its own Baseball-Reference page\".CBSSports.com. Archived fromthe originalon April 13, 2016. RetrievedDecember 21,2024.\n^Curtis, Charles (March 31, 2023).\"Who's Tungsten Arm O'Doyle? The legendary Angels meme involving Shohei Ohtani, explained\".For the Win.USA Today.Archivedfrom the original on June 22, 2024. RetrievedFebruary 20,2024.\n^\"Paul O'Neill Stats, Height, Weight, Position, Rookie Status & More\".Baseball Reference.Archivedfrom the original on December 8, 2024. RetrievedDecember 21,2024.\n\n=== External links ===\n\nOfficial website",
         "['/wiki/Wikipedia', '/wiki/Dummy_Hoy', '/wiki/Rolling_Stone', '/wiki/Sabermetrics', '/wiki/Computational_science', '/wiki/Sports_Reference', '/wiki/Six_Degrees_of_Kevin_Bacon', '/wiki/University_of_Iowa', '/wiki/Encyclopedia', '/wiki/Shohei_Ohtani', '/wiki/Bloomberg_Businessweek', '/wiki/Incorporation_(business)', '/wiki/MLB_draft', '/wiki/Baseball_statistics', 'https://www.wikidata.org/wiki/Q863769#P856', '/wiki/Major_League_Baseball', '/wiki/Chief_Bender', '/wiki/1901_in_baseball', '/wiki/1888_in_baseball', '/wiki/Applied_math', '/wiki/Sean_Lahman', '/wiki/Pro_Football_Reference', '/wiki/Negro_league', '/wiki/File:Baseball_Reference_Logo.svg', '/wiki/Cy_Young_Award', '/wiki/Total_Baseball', '/wiki/Wiki', '/wiki/USA_Today', '/wiki/For_the_Win_(website)', '/wiki/Saint_Joseph%27s_University', '/wiki/CBSSports.com', '/wiki/Sports_Business_Journal', '/wiki/Most_valuable_player', '/wiki/Paul_O%27Neill_(baseball)', '/wiki/Minor_league_baseball', '/wiki/Keith_Hernandez']",
         "https://en.wikipedia.org/wiki/Baseball_Reference"
        ],
        [
         "4",
         "National Baseball Hall of Fame and Museum",
         null,
         null,
         "['/wiki/Geographic_coordinate_system']",
         "https://en.wikipedia.org/wiki/National_Baseball_Hall_of_Fame_and_Museum"
        ]
       ],
       "shape": {
        "columns": 5,
        "rows": 5
       }
      },
      "text/html": [
       "<div>\n",
       "<style scoped>\n",
       "    .dataframe tbody tr th:only-of-type {\n",
       "        vertical-align: middle;\n",
       "    }\n",
       "\n",
       "    .dataframe tbody tr th {\n",
       "        vertical-align: top;\n",
       "    }\n",
       "\n",
       "    .dataframe thead th {\n",
       "        text-align: right;\n",
       "    }\n",
       "</style>\n",
       "<table border=\"1\" class=\"dataframe\">\n",
       "  <thead>\n",
       "    <tr style=\"text-align: right;\">\n",
       "      <th></th>\n",
       "      <th>title</th>\n",
       "      <th>summary</th>\n",
       "      <th>content</th>\n",
       "      <th>links</th>\n",
       "      <th>url</th>\n",
       "    </tr>\n",
       "  </thead>\n",
       "  <tbody>\n",
       "    <tr>\n",
       "      <th>0</th>\n",
       "      <td>Baseball</td>\n",
       "      <td>NaN</td>\n",
       "      <td>NaN</td>\n",
       "      <td>['/wiki/Wikipedia:Featured_articles*']</td>\n",
       "      <td>https://en.wikipedia.org/wiki/Baseball</td>\n",
       "    </tr>\n",
       "    <tr>\n",
       "      <th>1</th>\n",
       "      <td>Major League Baseball</td>\n",
       "      <td>NaN</td>\n",
       "      <td>NaN</td>\n",
       "      <td>['/wiki/Wikipedia:Protection_policy#pending']</td>\n",
       "      <td>https://en.wikipedia.org/wiki/Major_League_Bas...</td>\n",
       "    </tr>\n",
       "    <tr>\n",
       "      <th>2</th>\n",
       "      <td>List of baseball video games</td>\n",
       "      <td>The following is a list ofbaseballsports video...</td>\n",
       "      <td>The following is a list ofbaseballsports video...</td>\n",
       "      <td>['/wiki/Triple_Play_98', '/wiki/Activision', '...</td>\n",
       "      <td>https://en.wikipedia.org/wiki/List_of_baseball...</td>\n",
       "    </tr>\n",
       "    <tr>\n",
       "      <th>3</th>\n",
       "      <td>Baseball Reference</td>\n",
       "      <td>\\nBaseball Referenceis abaseball statisticsdat...</td>\n",
       "      <td>\\nBaseball Referenceis abaseball statisticsdat...</td>\n",
       "      <td>['/wiki/Wikipedia', '/wiki/Dummy_Hoy', '/wiki/...</td>\n",
       "      <td>https://en.wikipedia.org/wiki/Baseball_Reference</td>\n",
       "    </tr>\n",
       "    <tr>\n",
       "      <th>4</th>\n",
       "      <td>National Baseball Hall of Fame and Museum</td>\n",
       "      <td>NaN</td>\n",
       "      <td>NaN</td>\n",
       "      <td>['/wiki/Geographic_coordinate_system']</td>\n",
       "      <td>https://en.wikipedia.org/wiki/National_Basebal...</td>\n",
       "    </tr>\n",
       "  </tbody>\n",
       "</table>\n",
       "</div>"
      ],
      "text/plain": [
       "                                       title  \\\n",
       "0                                   Baseball   \n",
       "1                      Major League Baseball   \n",
       "2               List of baseball video games   \n",
       "3                         Baseball Reference   \n",
       "4  National Baseball Hall of Fame and Museum   \n",
       "\n",
       "                                             summary  \\\n",
       "0                                                NaN   \n",
       "1                                                NaN   \n",
       "2  The following is a list ofbaseballsports video...   \n",
       "3  \\nBaseball Referenceis abaseball statisticsdat...   \n",
       "4                                                NaN   \n",
       "\n",
       "                                             content  \\\n",
       "0                                                NaN   \n",
       "1                                                NaN   \n",
       "2  The following is a list ofbaseballsports video...   \n",
       "3  \\nBaseball Referenceis abaseball statisticsdat...   \n",
       "4                                                NaN   \n",
       "\n",
       "                                               links  \\\n",
       "0             ['/wiki/Wikipedia:Featured_articles*']   \n",
       "1      ['/wiki/Wikipedia:Protection_policy#pending']   \n",
       "2  ['/wiki/Triple_Play_98', '/wiki/Activision', '...   \n",
       "3  ['/wiki/Wikipedia', '/wiki/Dummy_Hoy', '/wiki/...   \n",
       "4             ['/wiki/Geographic_coordinate_system']   \n",
       "\n",
       "                                                 url  \n",
       "0             https://en.wikipedia.org/wiki/Baseball  \n",
       "1  https://en.wikipedia.org/wiki/Major_League_Bas...  \n",
       "2  https://en.wikipedia.org/wiki/List_of_baseball...  \n",
       "3   https://en.wikipedia.org/wiki/Baseball_Reference  \n",
       "4  https://en.wikipedia.org/wiki/National_Basebal...  "
      ]
     },
     "execution_count": 4,
     "metadata": {},
     "output_type": "execute_result"
    }
   ],
   "source": [
    "import pandas as pd \n",
    "\n",
    "df = pd.read_csv(r'D:\\webscrapping\\webscrapping\\Web-Scraping\\code\\Notebooks\\baseball_data.csv')\n",
    "df.head()"
   ]
  },
  {
   "cell_type": "code",
   "execution_count": 8,
   "metadata": {},
   "outputs": [],
   "source": [
    "file_path = r'D:\\webscrapping\\webscrapping\\Web-Scraping\\code\\Notebooks\\baseball_data.csv'"
   ]
  },
  {
   "cell_type": "code",
   "execution_count": 11,
   "metadata": {},
   "outputs": [],
   "source": [
    "def load_data(file_path):\n",
    "    df = pd.read_csv(file_path)\n",
    "    \n"
   ]
  },
  {
   "cell_type": "code",
   "execution_count": 12,
   "metadata": {},
   "outputs": [],
   "source": [
    "load_data(file_path)"
   ]
  },
  {
   "cell_type": "code",
   "execution_count": 5,
   "metadata": {},
   "outputs": [
    {
     "data": {
      "text/plain": [
       "title      0.00\n",
       "summary    3.10\n",
       "content    2.99\n",
       "links      0.00\n",
       "url        0.00\n",
       "dtype: float64"
      ]
     },
     "execution_count": 5,
     "metadata": {},
     "output_type": "execute_result"
    }
   ],
   "source": [
    "df.isnull().sum() / len(df) * 100"
   ]
  },
  {
   "cell_type": "code",
   "execution_count": 6,
   "metadata": {},
   "outputs": [
    {
     "data": {
      "text/plain": [
       "title      0.0\n",
       "summary    0.0\n",
       "content    0.0\n",
       "links      0.0\n",
       "url        0.0\n",
       "dtype: float64"
      ]
     },
     "execution_count": 6,
     "metadata": {},
     "output_type": "execute_result"
    }
   ],
   "source": [
    "df.dropna(inplace=True)\n",
    "df.isnull().sum() / len(df) * 100"
   ]
  },
  {
   "cell_type": "code",
   "execution_count": 7,
   "metadata": {},
   "outputs": [
    {
     "data": {
      "text/plain": [
       "'\\nTriple-A(officiallyClass AAA[1]) has been the highest level of play inMinor League Baseballin theUnited Statessince 1946. Currently, twoleaguesoperate at the Triple-A level, theInternational League(IL) and thePacific Coast League(PCL). There are 30 teams, one per eachMajor League Baseball(MLB) franchise, with 20 in the IL and 10 in the PCL. Triple-A teams are generally located in smaller cities who do not have major sports league teams such asSyracuse,Toledo,RenoandOmahaas well as larger metropolitan areas without MLB teams that may also have teams in othermajor sports leagues, such asAustin,Jacksonville,Columbus,Buffalo, andIndianapolis. Four Triple-A teams play in the same metro areas as their parent clubs.[notes 1]'"
      ]
     },
     "execution_count": 7,
     "metadata": {},
     "output_type": "execute_result"
    }
   ],
   "source": [
    "df['summary'][12]"
   ]
  },
  {
   "cell_type": "code",
   "execution_count": 21,
   "metadata": {},
   "outputs": [],
   "source": [
    "text =\"The example is €2 coins and also KES 599 million should be sent to the bureau.\"\n",
    "\n",
    "import re\n",
    "\n",
    "def find_currency(text):\n",
    "    currency_symbols = re.findall(r'€|KES', text)\n",
    "    for curency in currency_symbols:\n",
    "        if curency == '€':\n",
    "            text = text.replace(curency, 'EUROS ')\n",
    "        if curency == 'KES':\n",
    "            text = text.replace(curency, 'Kenya Shillings ')\n",
    "    return text\n",
    "\n",
    "   "
   ]
  },
  {
   "cell_type": "code",
   "execution_count": 20,
   "metadata": {},
   "outputs": [
    {
     "data": {
      "text/plain": [
       "'The example is EUROS2 coins and also Kenya Shillings 599 million should be sent to the bureau.'"
      ]
     },
     "execution_count": 20,
     "metadata": {},
     "output_type": "execute_result"
    }
   ],
   "source": [
    "find_currency(text)"
   ]
  },
  {
   "cell_type": "code",
   "execution_count": null,
   "metadata": {},
   "outputs": [],
   "source": []
  }
 ],
 "metadata": {
  "kernelspec": {
   "display_name": "Python 3 (ipykernel)",
   "language": "python",
   "name": "python3"
  },
  "language_info": {
   "codemirror_mode": {
    "name": "ipython",
    "version": 3
   },
   "file_extension": ".py",
   "mimetype": "text/x-python",
   "name": "python",
   "nbconvert_exporter": "python",
   "pygments_lexer": "ipython3",
   "version": "3.12.8"
  }
 },
 "nbformat": 4,
 "nbformat_minor": 2
}
