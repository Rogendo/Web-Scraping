{
 "cells": [
  {
   "cell_type": "code",
   "execution_count": 1,
   "metadata": {},
   "outputs": [],
   "source": [
    "from selenium import webdriver\n",
    "import time\n",
    "from bs4 import BeautifulSoup\n",
    "from selenium.webdriver.chrome.service import Service\n",
    "from selenium.webdriver.common.by import By\n",
    "from selenium.webdriver.common.keys import Keys\n",
    "from selenium.webdriver.chrome.options import Options\n",
    "from selenium.webdriver.common.action_chains import ActionChains\n",
    "from selenium.webdriver.support.ui import WebDriverWait\n",
    "from selenium.webdriver.support import expected_conditions as EC\n",
    "import pandas as pd\n",
    "from bs4 import BeautifulSoup\n",
    "from ydata_profiling import ProfileReport\n",
    "import requests\n"
   ]
  },
  {
   "cell_type": "code",
   "execution_count": null,
   "metadata": {},
   "outputs": [],
   "source": [
    "\n",
    "# Set up Selenium WebDriver with headless mode\n",
    "\n",
    "options = webdriver.ChromeOptions()\n",
    "options.add_argument(\"--headless\")  # Run in headless mode\n",
    "options.add_argument(\"--disable-gpu\")  # Disable GPU hardware acceleration\n",
    "options.add_argument(\"--window-size=1920x1080\")  # Set a large window size to avoid hidden elements\n",
    "driver = webdriver.Chrome(options=options)\n"
   ]
  },
  {
   "cell_type": "code",
   "execution_count": null,
   "metadata": {},
   "outputs": [
    {
     "name": "stdout",
     "output_type": "stream",
     "text": [
      "https://www.unodc.org/unodc/en/search/index.html#?c=%7B%22filters%22:%5B%7B%22fieldName%22:%22tag%22,%22value%22:%22Organized%20Crime%22%7D,%7B%22fieldName%22:%22tag%22,%22value%22:%22West%20Africa%22%7D%5D,%22match%22:%22%22%7D\n"
     ]
    }
   ],
   "source": [
    "url = \"https://www.unodc.org/unodc/en/search/index.html#?c=%7B%22filters%22:%5B%7B%22fieldName%22:%22tag%22,%22value%22:%22Organized%20Crime%22%7D,%7B%22fieldName%22:%22tag%22,%22value%22:%22West%20Africa%22%7D%5D,%22match%22:%22%22%7D\"\n",
    "\n",
    "\n",
    "url2 = '''https://www.unodc.org/unodc/en/search/data.json?criteria={\"startAt\":0,\"filters\":[{\"fieldName\":\"tag\",\"value\":\"Organized Crime\"},{\"fieldName\":\"tag\",\"value\":\"West Africa\"}],\"match\":\"\"}'''\n",
    "\n",
    "print(url)"
   ]
  },
  {
   "cell_type": "code",
   "execution_count": 6,
   "metadata": {},
   "outputs": [
    {
     "name": "stdout",
     "output_type": "stream",
     "text": [
      "https://www.unodc.org/unodc/en/search/data.json?criteria=%7B%22startAt%22%3A%200%2C%20%22filters%22%3A%20%5B%7B%22fieldName%22%3A%20%22tag%22%2C%20%22value%22%3A%20%22Organized%20Crime%22%7D%2C%20%7B%22fieldName%22%3A%20%22tag%22%2C%20%22value%22%3A%20%22West%20Africa%22%7D%5D%2C%20%22match%22%3A%20%22%22%7D\n"
     ]
    }
   ],
   "source": [
    "import json\n",
    "from urllib.parse import quote\n",
    "\n",
    "# Define the criteria parameters\n",
    "criteria = {\n",
    "    \"startAt\": 0,\n",
    "    \"filters\": [\n",
    "        {\"fieldName\": \"tag\", \"value\": \"Organized Crime\"},\n",
    "        {\"fieldName\": \"tag\", \"value\": \"West Africa\"}\n",
    "    ],\n",
    "    \"match\": \"\"\n",
    "}\n",
    "\n",
    "# Build the URL with f-string and proper encoding\n",
    "url = f\"https://www.unodc.org/unodc/en/search/data.json?criteria={quote(json.dumps(criteria))}\"\n",
    "\n",
    "print(url)"
   ]
  },
  {
   "cell_type": "code",
   "execution_count": null,
   "metadata": {},
   "outputs": [],
   "source": []
  },
  {
   "cell_type": "code",
   "execution_count": null,
   "metadata": {},
   "outputs": [],
   "source": []
  }
 ],
 "metadata": {
  "kernelspec": {
   "display_name": "Python 3 (ipykernel)",
   "language": "python",
   "name": "python3"
  }
 },
 "nbformat": 4,
 "nbformat_minor": 2
}
